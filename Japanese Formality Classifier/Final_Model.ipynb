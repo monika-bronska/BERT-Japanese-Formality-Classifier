{
 "cells": [
  {
   "cell_type": "markdown",
   "metadata": {
    "id": "T-NMiK1mn1ex"
   },
   "source": [
    "## Prepare the environment and load the necessary libraries"
   ]
  },
  {
   "cell_type": "code",
   "execution_count": null,
   "metadata": {
    "colab": {
     "base_uri": "https://localhost:8080/"
    },
    "id": "De6qW0GivrMV",
    "outputId": "59eb2457-954f-4d77-83a0-0dd18cc005f0"
   },
   "outputs": [
    {
     "name": "stdout",
     "output_type": "stream",
     "text": [
      "Mounted at /content/drive\n"
     ]
    }
   ],
   "source": [
    "# mount the drive to load and store files\n",
    "from google.colab import drive\n",
    "drive.mount('/content/drive')"
   ]
  },
  {
   "cell_type": "code",
   "execution_count": null,
   "metadata": {
    "colab": {
     "base_uri": "https://localhost:8080/"
    },
    "id": "J3LyZIhg2RQS",
    "outputId": "1cbad330-5d91-4fa4-f545-7745fabe65aa"
   },
   "outputs": [
    {
     "name": "stdout",
     "output_type": "stream",
     "text": [
      "Found GPU at: /device:GPU:0\n"
     ]
    }
   ],
   "source": [
    "# find Colab GPU for training \n",
    "import tensorflow as tf\n",
    "\n",
    "# Get the GPU device name.\n",
    "device_name = tf.test.gpu_device_name()\n",
    "\n",
    "# The device name should look like the following:\n",
    "if device_name == '/device:GPU:0':\n",
    "    print('Found GPU at: {}'.format(device_name))\n",
    "else:\n",
    "    raise SystemError('GPU device not found')"
   ]
  },
  {
   "cell_type": "code",
   "execution_count": null,
   "metadata": {
    "colab": {
     "base_uri": "https://localhost:8080/"
    },
    "id": "DBMEFeD3tp-r",
    "outputId": "2ff267c4-65c1-4e7d-a154-67c2b12f2718"
   },
   "outputs": [
    {
     "name": "stdout",
     "output_type": "stream",
     "text": [
      "There are 1 GPU(s) available.\n",
      "We will use the GPU: Tesla P100-PCIE-16GB\n"
     ]
    }
   ],
   "source": [
    "import torch\n",
    "\n",
    "# If there's a GPU available...\n",
    "if torch.cuda.is_available():    \n",
    "\n",
    "    # Tell PyTorch to use the GPU.    \n",
    "    device = torch.device(\"cuda\")\n",
    "\n",
    "    print('There are %d GPU(s) available.' % torch.cuda.device_count())\n",
    "\n",
    "    print('We will use the GPU:', torch.cuda.get_device_name(0))\n",
    "\n",
    "# If not...\n",
    "else:\n",
    "    print('No GPU available, using the CPU instead.')\n",
    "    device = torch.device(\"cpu\")"
   ]
  },
  {
   "cell_type": "code",
   "execution_count": null,
   "metadata": {
    "colab": {
     "base_uri": "https://localhost:8080/"
    },
    "id": "rKbjL4cNwdGS",
    "outputId": "21e43544-a843-42ce-d965-0195106cc8c8"
   },
   "outputs": [
    {
     "name": "stdout",
     "output_type": "stream",
     "text": [
      "\u001b[K     |████████████████████████████████| 421.8 MB 5.0 kB/s \n",
      "\u001b[K     |████████████████████████████████| 448 kB 52.9 MB/s \n",
      "\u001b[K     |████████████████████████████████| 50 kB 6.4 MB/s \n",
      "\u001b[K     |████████████████████████████████| 3.8 MB 41.2 MB/s \n",
      "\u001b[?25h  Building wheel for gast (setup.py) ... \u001b[?25l\u001b[?25hdone\n",
      "\u001b[31mERROR: pip's dependency resolver does not currently take into account all the packages that are installed. This behaviour is the source of the following dependency conflicts.\n",
      "tensorflow 2.8.0 requires tf-estimator-nightly==2.8.0.dev2021122109, which is not installed.\n",
      "tensorflow 2.8.0 requires tensorboard<2.9,>=2.8, but you have tensorboard 2.1.1 which is incompatible.\n",
      "tensorflow-probability 0.16.0 requires gast>=0.3.2, but you have gast 0.2.2 which is incompatible.\u001b[0m\n"
     ]
    }
   ],
   "source": [
    "!pip3 install -q tensorflow_gpu==2.1.0"
   ]
  },
  {
   "cell_type": "code",
   "execution_count": null,
   "metadata": {
    "colab": {
     "base_uri": "https://localhost:8080/"
    },
    "id": "8tb5yANi3hxx",
    "outputId": "167c6b45-5ec6-48b3-e3f2-1b6f711e5bc8"
   },
   "outputs": [
    {
     "name": "stdout",
     "output_type": "stream",
     "text": [
      "2.8.0\n"
     ]
    }
   ],
   "source": [
    "import tensorflow as tf\n",
    "print(tf.__version__)"
   ]
  },
  {
   "cell_type": "code",
   "execution_count": null,
   "metadata": {
    "colab": {
     "base_uri": "https://localhost:8080/"
    },
    "id": "85JxlgR73kk6",
    "outputId": "8ec0522e-b1b8-41c0-92b5-e12b7e31624a"
   },
   "outputs": [
    {
     "name": "stdout",
     "output_type": "stream",
     "text": [
      "\u001b[K     |████████████████████████████████| 25.3 MB 643 kB/s \n",
      "\u001b[K     |████████████████████████████████| 22.3 MB 119 kB/s \n",
      "\u001b[K     |████████████████████████████████| 981 kB 62.3 MB/s \n",
      "\u001b[K     |████████████████████████████████| 263 kB 55.1 MB/s \n",
      "\u001b[K     |████████████████████████████████| 2.8 MB 52.4 MB/s \n",
      "\u001b[K     |████████████████████████████████| 1.2 MB 26.0 MB/s \n",
      "\u001b[K     |████████████████████████████████| 468 kB 51.8 MB/s \n",
      "\u001b[K     |████████████████████████████████| 895 kB 59.3 MB/s \n",
      "\u001b[K     |████████████████████████████████| 596 kB 64.1 MB/s \n",
      "\u001b[K     |████████████████████████████████| 3.3 MB 34.5 MB/s \n",
      "\u001b[K     |████████████████████████████████| 77 kB 6.4 MB/s \n",
      "\u001b[?25h  Building wheel for ktrain (setup.py) ... \u001b[?25l\u001b[?25hdone\n",
      "  Building wheel for keras-bert (setup.py) ... \u001b[?25l\u001b[?25hdone\n",
      "  Building wheel for keras-transformer (setup.py) ... \u001b[?25l\u001b[?25hdone\n",
      "  Building wheel for keras-embed-sim (setup.py) ... \u001b[?25l\u001b[?25hdone\n",
      "  Building wheel for keras-layer-normalization (setup.py) ... \u001b[?25l\u001b[?25hdone\n",
      "  Building wheel for keras-multi-head (setup.py) ... \u001b[?25l\u001b[?25hdone\n",
      "  Building wheel for keras-pos-embd (setup.py) ... \u001b[?25l\u001b[?25hdone\n",
      "  Building wheel for keras-position-wise-feed-forward (setup.py) ... \u001b[?25l\u001b[?25hdone\n",
      "  Building wheel for keras-self-attention (setup.py) ... \u001b[?25l\u001b[?25hdone\n",
      "  Building wheel for langdetect (setup.py) ... \u001b[?25l\u001b[?25hdone\n",
      "\u001b[31mERROR: pip's dependency resolver does not currently take into account all the packages that are installed. This behaviour is the source of the following dependency conflicts.\n",
      "yellowbrick 1.4 requires scikit-learn>=1.0.0, but you have scikit-learn 0.24.2 which is incompatible.\u001b[0m\n"
     ]
    }
   ],
   "source": [
    "!pip3 install -q ktrain"
   ]
  },
  {
   "cell_type": "markdown",
   "metadata": {
    "id": "PGFzcs9IkF6K"
   },
   "source": [
    "# Model 1"
   ]
  },
  {
   "cell_type": "markdown",
   "metadata": {
    "id": "S_uwVT2Npooh"
   },
   "source": [
    "## Load the dataset"
   ]
  },
  {
   "cell_type": "code",
   "execution_count": null,
   "metadata": {
    "colab": {
     "base_uri": "https://localhost:8080/"
    },
    "id": "1yTS0r3_pg5X",
    "outputId": "b31b3421-8cd0-41f4-eae1-0c071c273ffe"
   },
   "outputs": [
    {
     "name": "stdout",
     "output_type": "stream",
     "text": [
      "    Unnamed: 0                   jp_sentence     label\n",
      "0      1533289            落ち着いて 私のアドバイスを忘れずに  informal\n",
      "1      1247871                  私 魔女にはなりたくない  informal\n",
      "2       950993     翌日の4時04分に 404ドルもの賞金を渡しました    polite\n",
      "3      1736253                  大丈夫ですよ。 行こう。    polite\n",
      "4      2185184                  5年もやってれば慣れます    polite\n",
      "5      1537257                     自分の電気ですから    polite\n",
      "6      1930911              お...おはよう...ございます    polite\n",
      "7      2402529                判ったよ 静かに、黙るんだ!  informal\n",
      "8      2144582        5つの強みを知るための有効なテストがあります    polite\n",
      "9      1823023      あの... シャワー浴びてる 女性がいますけど。    polite\n",
      "10     1537836                       20分前は3+  informal\n",
      "11     2050660                     トントン叩くのです    polite\n",
      "12     1450758            場所によっては 火星よりも寒いのです    polite\n",
      "13      293247          検事に話しといたわ なかった事にするって  informal\n",
      "14     2185524                    ごくかすかな音でした    polite\n",
      "15      447746                あなたにしか話していないのよ  informal\n",
      "16      752718             指示されてすることでは ない点です    polite\n",
      "17      414313                思いのままにセックスに使う。  informal\n",
      "18     2161875         橘 「沢の蛍」って言葉から 何かわかるか?  informal\n",
      "19      967744             独自の条件でなら 最高に満たせるが  informal\n",
      "20      368843                違うの... これはね マヤ  informal\n",
      "21     2388349           2つのシグナル検出 かつてない数値です    polite\n",
      "22     1619998    ベイリッシュ公が止めに入った時 彼女は彼を殴りました    polite\n",
      "23     2258474               この質問に答えたくないのでは?  informal\n",
      "24     2517780                うちの旅行代理店の受付です。    polite\n",
      "25     1095760                    daf-2変異体では  informal\n",
      "26      775363  緊急避難と車庫代わりに 本線のあちこちに作ってあるんです    polite\n",
      "27     1299997          生きることを余儀なくされたようなものです    polite\n",
      "28     2274227                      無二の親友がいて  informal\n",
      "29     2391590               ペルーの神聖な地に降りたちます    polite\n"
     ]
    }
   ],
   "source": [
    "import pandas as pd\n",
    "\n",
    "# load the training set\n",
    "with open(\"/content/drive/MyDrive/Colab Notebooks/Model/JESC/tuning_train.csv\") as file:\n",
    "    train = pd.read_csv(file)\n",
    "\n",
    "print(train.head(30))"
   ]
  },
  {
   "cell_type": "code",
   "execution_count": null,
   "metadata": {
    "id": "g278AKlxp4Zs"
   },
   "outputs": [],
   "source": [
    "# convert to format expected by ktrain\n",
    "x_train = train['jp_sentence'].tolist()\n",
    "y_train = train['label'].tolist()"
   ]
  },
  {
   "cell_type": "code",
   "execution_count": null,
   "metadata": {
    "colab": {
     "base_uri": "https://localhost:8080/"
    },
    "id": "Qd_co0Nop4Zs",
    "outputId": "9554bdc4-d118-4362-8689-17fd5272fe56"
   },
   "outputs": [
    {
     "name": "stdout",
     "output_type": "stream",
     "text": [
      "   Unnamed: 0              jp_sentence     label\n",
      "0         405               地球にもたらされた。  informal\n",
      "1        1190               うるせーな 返せよッ  informal\n",
      "2        1132         わからないわ 私は心を読めないの  informal\n",
      "3         731  曲は完璧なんだよ。 作り直す必要なんかねえよ。  informal\n",
      "4        1754                座るつもりはない!  informal\n"
     ]
    }
   ],
   "source": [
    "# load the validation set\n",
    "with open(\"/content/drive/MyDrive/Colab Notebooks/Model/JESC/validation.csv\") as file:\n",
    "    dev = pd.read_csv(file)\n",
    "\n",
    "print(dev.head())"
   ]
  },
  {
   "cell_type": "code",
   "execution_count": null,
   "metadata": {
    "id": "3ZBWLbL3p4Zt"
   },
   "outputs": [],
   "source": [
    "# convert to format expected by ktrain\n",
    "x_dev = dev['jp_sentence'].tolist()\n",
    "y_dev = dev['label'].tolist()"
   ]
  },
  {
   "cell_type": "markdown",
   "metadata": {
    "id": "wgz3HQzAp4Zt"
   },
   "source": [
    "## Load the libraries required by Tohoku BERT version"
   ]
  },
  {
   "cell_type": "code",
   "execution_count": null,
   "metadata": {
    "colab": {
     "base_uri": "https://localhost:8080/"
    },
    "id": "1lM4E25qp4Zt",
    "outputId": "bad53071-0949-4472-a6c3-1a86ade0b01c"
   },
   "outputs": [
    {
     "name": "stdout",
     "output_type": "stream",
     "text": [
      "Collecting fugashi[unidic-lite]\n",
      "  Downloading fugashi-1.1.2-cp37-cp37m-manylinux_2_17_x86_64.manylinux2014_x86_64.whl (568 kB)\n",
      "\u001b[K     |████████████████████████████████| 568 kB 5.1 MB/s \n",
      "\u001b[?25hCollecting unidic-lite\n",
      "  Downloading unidic-lite-1.0.8.tar.gz (47.4 MB)\n",
      "\u001b[K     |████████████████████████████████| 47.4 MB 53.7 MB/s \n",
      "\u001b[?25hBuilding wheels for collected packages: unidic-lite\n",
      "  Building wheel for unidic-lite (setup.py) ... \u001b[?25l\u001b[?25hdone\n",
      "  Created wheel for unidic-lite: filename=unidic_lite-1.0.8-py3-none-any.whl size=47658836 sha256=c067c9d9291bdb2c2ae4b13e2499b41240193726c6696c2fdfb086eb3d0a14e3\n",
      "  Stored in directory: /root/.cache/pip/wheels/de/69/b1/112140b599f2b13f609d485a99e357ba68df194d2079c5b1a2\n",
      "Successfully built unidic-lite\n",
      "Installing collected packages: unidic-lite, fugashi\n",
      "Successfully installed fugashi-1.1.2 unidic-lite-1.0.8\n"
     ]
    }
   ],
   "source": [
    "pip install fugashi[unidic-lite]"
   ]
  },
  {
   "cell_type": "code",
   "execution_count": null,
   "metadata": {
    "colab": {
     "base_uri": "https://localhost:8080/"
    },
    "id": "2i5tJY9Np4Zt",
    "outputId": "acd9304f-ea6a-4116-db67-1ca42b0f8a6a"
   },
   "outputs": [
    {
     "name": "stdout",
     "output_type": "stream",
     "text": [
      "Collecting ipadic\n",
      "  Downloading ipadic-1.0.0.tar.gz (13.4 MB)\n",
      "\u001b[K     |████████████████████████████████| 13.4 MB 4.9 MB/s \n",
      "\u001b[?25hBuilding wheels for collected packages: ipadic\n",
      "  Building wheel for ipadic (setup.py) ... \u001b[?25l\u001b[?25hdone\n",
      "  Created wheel for ipadic: filename=ipadic-1.0.0-py3-none-any.whl size=13556723 sha256=e8349cc267431c1ba46fe43cb2576adcb29dafd7075c04781710e4a270dbcc4f\n",
      "  Stored in directory: /root/.cache/pip/wheels/33/8b/99/cf0d27191876637cd3639a560f93aa982d7855ce826c94348b\n",
      "Successfully built ipadic\n",
      "Installing collected packages: ipadic\n",
      "Successfully installed ipadic-1.0.0\n"
     ]
    }
   ],
   "source": [
    "pip install ipadic"
   ]
  },
  {
   "cell_type": "code",
   "execution_count": null,
   "metadata": {
    "id": "DRw9crgep4Zt"
   },
   "outputs": [],
   "source": [
    "import ktrain\n",
    "from ktrain import text"
   ]
  },
  {
   "cell_type": "markdown",
   "metadata": {
    "id": "7qBENsTxktgA"
   },
   "source": [
    "## Create and fit the model"
   ]
  },
  {
   "cell_type": "code",
   "execution_count": null,
   "metadata": {
    "colab": {
     "base_uri": "https://localhost:8080/",
     "height": 301,
     "referenced_widgets": [
      "8400b079601e43c588bdf4b61dd4a17f",
      "26d9a6401aae4ccba8ac9ee737009767",
      "007973c75d6b4ed187864608e263036b",
      "4d60deb5b28d4605bdc62dbe59edf5f9",
      "54b7478bc7d549d4bb2af8bfb77403d3",
      "b092497bb83e4839b32c7a96aea19815",
      "3de60f2c5deb4b4a866194fd611ef7dc",
      "6f1054b33e9d4f2a974b606c7f965cf4",
      "a0203cbeb16546dd937b4e49184ebdc4",
      "cc94f3cf3f2b4c298ff0096cdf13aa45",
      "ecba00855ad741379e91f4643a6efe91",
      "db782a3b102f4b1d8f9e297305b27899",
      "52ab3db6f46b426196957d0d7376b8ff",
      "3ae92ae8d2cf4cca83b92c67d751aec7",
      "005ac32e87d443869142e460dd10de08",
      "daacccb408ab40d08af8af2fd508f55a",
      "8252c8ab01c64820a10e8d6eb6e94565",
      "ef3cd323919846d286fe522b53dc66a5",
      "43d2ec25261640f8a8ed3fed2823e114",
      "3fdaacaaeeeb43f5bec782f0104448e6",
      "950a269689214ba88973d80f8a71d2b7",
      "fa0b85249f4946c88fb7bba81a2e8aaf",
      "f198444baa264ffe9e054cc3bef81728",
      "371e641c41b945a7a2ef09e9ad3feec8",
      "22e6bb23a8434cf687c0fa9b2b00fb32",
      "782bb069f26b4964b59ea8c9614bf541",
      "3846d51a91d54ae6893408432b5f60d8",
      "272a349aab5242108b3a5c3e34a8ea70",
      "870a6b19b3344482a0cb3ee5e0ae743e",
      "9f493b2ddb574fc1ba7a0ea1136b730b",
      "e14a58c27963441583a05b0a265b3d58",
      "44007212545a41a6a56080180bb0b8f6",
      "72b10543df88405089ec6567ae177479",
      "4b3e2288683c4efd820d85428570af68",
      "1f58b2a1185e47dba612331e2c3d823b",
      "0fab0b62a7ec4538874870e2412a00a8",
      "a2141cecdb42443ca46eb62d584d128c",
      "de7184cceb664c218895dc900752dc2c",
      "f6e2c9d7b8d14673b1dc98e8a32a5d32",
      "958da007d28f4784a82f76ac039a7190",
      "2e8416343c7542edaab8f7059fc359e1",
      "e4a0689779ff45f9b89d921e003bb160",
      "dd2c364a6c9a415f94a3084688e7831c",
      "bc4203bd7fc84ea99b44bdb0a720681b"
     ]
    },
    "id": "8Ik2O01Jp4Zt",
    "outputId": "44bf661b-52fc-404b-b256-3028c142ba40"
   },
   "outputs": [
    {
     "name": "stderr",
     "output_type": "stream",
     "text": [
      "/usr/local/lib/python3.7/dist-packages/ktrain/text/preprocessor.py:422: UserWarning: The class_names argument is replacing the classes argument. Please update your code.\n",
      "  warnings.warn('The class_names argument is replacing the classes argument. Please update your code.')\n"
     ]
    },
    {
     "data": {
      "application/vnd.jupyter.widget-view+json": {
       "model_id": "8400b079601e43c588bdf4b61dd4a17f",
       "version_major": 2,
       "version_minor": 0
      },
      "text/plain": [
       "Downloading:   0%|          | 0.00/517 [00:00<?, ?B/s]"
      ]
     },
     "metadata": {},
     "output_type": "display_data"
    },
    {
     "name": "stdout",
     "output_type": "stream",
     "text": [
      "preprocessing train...\n",
      "language: ja\n"
     ]
    },
    {
     "name": "stderr",
     "output_type": "stream",
     "text": [
      "/usr/local/lib/python3.7/dist-packages/ktrain/utils.py:625: UserWarning: class_names argument was ignored, as they were extracted from string labels in dataset\n",
      "  if self.get_classes(): warnings.warn('class_names argument was ignored, as they were extracted from string labels in dataset')\n"
     ]
    },
    {
     "data": {
      "application/vnd.jupyter.widget-view+json": {
       "model_id": "db782a3b102f4b1d8f9e297305b27899",
       "version_major": 2,
       "version_minor": 0
      },
      "text/plain": [
       "Downloading:   0%|          | 0.00/236k [00:00<?, ?B/s]"
      ]
     },
     "metadata": {},
     "output_type": "display_data"
    },
    {
     "data": {
      "application/vnd.jupyter.widget-view+json": {
       "model_id": "f198444baa264ffe9e054cc3bef81728",
       "version_major": 2,
       "version_minor": 0
      },
      "text/plain": [
       "Downloading:   0%|          | 0.00/174 [00:00<?, ?B/s]"
      ]
     },
     "metadata": {},
     "output_type": "display_data"
    },
    {
     "data": {
      "text/html": [
       "\n",
       "<style>\n",
       "    /* Turns off some styling */\n",
       "    progress {\n",
       "        /* gets rid of default border in Firefox and Opera. */\n",
       "        border: none;\n",
       "        /* Needs to be in here for Safari polyfill so background images work as expected. */\n",
       "        background-size: auto;\n",
       "    }\n",
       "    .progress-bar-interrupted, .progress-bar-interrupted::-webkit-progress-bar {\n",
       "        background: #F44336;\n",
       "    }\n",
       "</style>\n"
      ],
      "text/plain": [
       "<IPython.core.display.HTML object>"
      ]
     },
     "metadata": {},
     "output_type": "display_data"
    },
    {
     "data": {
      "text/html": [],
      "text/plain": [
       "<IPython.core.display.HTML object>"
      ]
     },
     "metadata": {},
     "output_type": "display_data"
    },
    {
     "name": "stdout",
     "output_type": "stream",
     "text": [
      "Is Multi-Label? False\n",
      "preprocessing test...\n",
      "language: ja\n"
     ]
    },
    {
     "data": {
      "text/html": [
       "\n",
       "<style>\n",
       "    /* Turns off some styling */\n",
       "    progress {\n",
       "        /* gets rid of default border in Firefox and Opera. */\n",
       "        border: none;\n",
       "        /* Needs to be in here for Safari polyfill so background images work as expected. */\n",
       "        background-size: auto;\n",
       "    }\n",
       "    .progress-bar-interrupted, .progress-bar-interrupted::-webkit-progress-bar {\n",
       "        background: #F44336;\n",
       "    }\n",
       "</style>\n"
      ],
      "text/plain": [
       "<IPython.core.display.HTML object>"
      ]
     },
     "metadata": {},
     "output_type": "display_data"
    },
    {
     "data": {
      "text/html": [],
      "text/plain": [
       "<IPython.core.display.HTML object>"
      ]
     },
     "metadata": {},
     "output_type": "display_data"
    },
    {
     "data": {
      "application/vnd.jupyter.widget-view+json": {
       "model_id": "4b3e2288683c4efd820d85428570af68",
       "version_major": 2,
       "version_minor": 0
      },
      "text/plain": [
       "Downloading:   0%|          | 0.00/550M [00:00<?, ?B/s]"
      ]
     },
     "metadata": {},
     "output_type": "display_data"
    }
   ],
   "source": [
    "MODEL_NAME = 'cl-tohoku/bert-base-japanese-v2'\n",
    "t = text.Transformer(MODEL_NAME, maxlen=128, classes=['polite', 'informal'])\n",
    "trn = t.preprocess_train(x_train, y_train)\n",
    "val = t.preprocess_test(x_dev, y_dev)\n",
    "model = t.get_classifier()\n",
    "learner = ktrain.get_learner(model, train_data=trn, val_data=val, batch_size=12)"
   ]
  },
  {
   "cell_type": "code",
   "execution_count": null,
   "metadata": {
    "colab": {
     "base_uri": "https://localhost:8080/"
    },
    "id": "PZaG8z43p4Zu",
    "outputId": "6f1a6555-4273-41d2-e6bd-da4428e58a98"
   },
   "outputs": [
    {
     "name": "stdout",
     "output_type": "stream",
     "text": [
      "\n",
      "\n",
      "begin training using onecycle policy with max lr of 5e-05...\n",
      "Epoch 1/3\n",
      "4167/4167 [==============================] - 946s 219ms/step - loss: 0.0340 - accuracy: 0.9916 - val_loss: 0.0135 - val_accuracy: 0.9980\n",
      "Epoch 2/3\n",
      "4167/4167 [==============================] - 922s 219ms/step - loss: 0.2873 - accuracy: 0.8211 - val_loss: 0.6787 - val_accuracy: 0.8160\n",
      "Epoch 3/3\n",
      "4167/4167 [==============================] - 928s 220ms/step - loss: 0.6939 - accuracy: 0.5205 - val_loss: 0.6096 - val_accuracy: 0.8160\n"
     ]
    },
    {
     "data": {
      "text/plain": [
       "<keras.callbacks.History at 0x7fd579e251d0>"
      ]
     },
     "execution_count": 15,
     "metadata": {},
     "output_type": "execute_result"
    }
   ],
   "source": [
    "learner.fit_onecycle(5e-5, 3)"
   ]
  },
  {
   "cell_type": "markdown",
   "metadata": {
    "id": "yMkFb--2qvhM"
   },
   "source": [
    "## Evaluate the model"
   ]
  },
  {
   "cell_type": "code",
   "execution_count": null,
   "metadata": {
    "colab": {
     "base_uri": "https://localhost:8080/"
    },
    "id": "AIDo09N9phUM",
    "outputId": "d84f034b-d612-443f-a055-f91557d410e7"
   },
   "outputs": [
    {
     "name": "stdout",
     "output_type": "stream",
     "text": [
      "              precision    recall  f1-score   support\n",
      "\n",
      "    informal       0.82      1.00      0.90      1632\n",
      "      polite       0.00      0.00      0.00       368\n",
      "\n",
      "    accuracy                           0.82      2000\n",
      "   macro avg       0.41      0.50      0.45      2000\n",
      "weighted avg       0.67      0.82      0.73      2000\n",
      "\n"
     ]
    },
    {
     "name": "stderr",
     "output_type": "stream",
     "text": [
      "/usr/local/lib/python3.7/dist-packages/sklearn/metrics/_classification.py:1248: UndefinedMetricWarning: Precision and F-score are ill-defined and being set to 0.0 in labels with no predicted samples. Use `zero_division` parameter to control this behavior.\n",
      "  _warn_prf(average, modifier, msg_start, len(result))\n",
      "/usr/local/lib/python3.7/dist-packages/sklearn/metrics/_classification.py:1248: UndefinedMetricWarning: Precision and F-score are ill-defined and being set to 0.0 in labels with no predicted samples. Use `zero_division` parameter to control this behavior.\n",
      "  _warn_prf(average, modifier, msg_start, len(result))\n",
      "/usr/local/lib/python3.7/dist-packages/sklearn/metrics/_classification.py:1248: UndefinedMetricWarning: Precision and F-score are ill-defined and being set to 0.0 in labels with no predicted samples. Use `zero_division` parameter to control this behavior.\n",
      "  _warn_prf(average, modifier, msg_start, len(result))\n"
     ]
    },
    {
     "data": {
      "text/plain": [
       "array([[1632,    0],\n",
       "       [ 368,    0]])"
      ]
     },
     "execution_count": 16,
     "metadata": {},
     "output_type": "execute_result"
    }
   ],
   "source": [
    "learner.validate(class_names=t.get_classes())"
   ]
  },
  {
   "cell_type": "markdown",
   "metadata": {
    "id": "O3uQmJ4Dj9FQ"
   },
   "source": [
    "*The second model using a smaller dataset also shows the tendency to assign the same label regardless of the input. It will be attempted to resolved by using a balanced validation set on top of balanced training set.*"
   ]
  },
  {
   "cell_type": "markdown",
   "metadata": {
    "id": "Yk4l01WSl7r7"
   },
   "source": [
    "# Model 2 - test if using a balanced validation set resolves the issue"
   ]
  },
  {
   "cell_type": "markdown",
   "metadata": {
    "id": "UiUII07Iq64p"
   },
   "source": [
    "## Load the dataset"
   ]
  },
  {
   "cell_type": "code",
   "execution_count": null,
   "metadata": {
    "colab": {
     "base_uri": "https://localhost:8080/"
    },
    "id": "MB3f74b33L9W",
    "outputId": "0dc20b5f-3f54-4012-ff1f-c8ac724ab7d1"
   },
   "outputs": [
    {
     "name": "stdout",
     "output_type": "stream",
     "text": [
      "    Unnamed: 0                   jp_sentence     label\n",
      "0      1533289            落ち着いて 私のアドバイスを忘れずに  informal\n",
      "1      1247871                  私 魔女にはなりたくない  informal\n",
      "2       950993     翌日の4時04分に 404ドルもの賞金を渡しました    polite\n",
      "3      1736253                  大丈夫ですよ。 行こう。    polite\n",
      "4      2185184                  5年もやってれば慣れます    polite\n",
      "5      1537257                     自分の電気ですから    polite\n",
      "6      1930911              お...おはよう...ございます    polite\n",
      "7      2402529                判ったよ 静かに、黙るんだ!  informal\n",
      "8      2144582        5つの強みを知るための有効なテストがあります    polite\n",
      "9      1823023      あの... シャワー浴びてる 女性がいますけど。    polite\n",
      "10     1537836                       20分前は3+  informal\n",
      "11     2050660                     トントン叩くのです    polite\n",
      "12     1450758            場所によっては 火星よりも寒いのです    polite\n",
      "13      293247          検事に話しといたわ なかった事にするって  informal\n",
      "14     2185524                    ごくかすかな音でした    polite\n",
      "15      447746                あなたにしか話していないのよ  informal\n",
      "16      752718             指示されてすることでは ない点です    polite\n",
      "17      414313                思いのままにセックスに使う。  informal\n",
      "18     2161875         橘 「沢の蛍」って言葉から 何かわかるか?  informal\n",
      "19      967744             独自の条件でなら 最高に満たせるが  informal\n",
      "20      368843                違うの... これはね マヤ  informal\n",
      "21     2388349           2つのシグナル検出 かつてない数値です    polite\n",
      "22     1619998    ベイリッシュ公が止めに入った時 彼女は彼を殴りました    polite\n",
      "23     2258474               この質問に答えたくないのでは?  informal\n",
      "24     2517780                うちの旅行代理店の受付です。    polite\n",
      "25     1095760                    daf-2変異体では  informal\n",
      "26      775363  緊急避難と車庫代わりに 本線のあちこちに作ってあるんです    polite\n",
      "27     1299997          生きることを余儀なくされたようなものです    polite\n",
      "28     2274227                      無二の親友がいて  informal\n",
      "29     2391590               ペルーの神聖な地に降りたちます    polite\n"
     ]
    }
   ],
   "source": [
    "# load the train set\n",
    "with open(\"/content/drive/MyDrive/Colab Notebooks/Model/JESC/tuning_train.csv\") as file:\n",
    "    train = pd.read_csv(file)\n",
    "\n",
    "print(train.head(30))"
   ]
  },
  {
   "cell_type": "code",
   "execution_count": null,
   "metadata": {
    "id": "BzXXvzZC3QuH"
   },
   "outputs": [],
   "source": [
    "# convert to format expected by ktrain\n",
    "x_train = train['jp_sentence'].tolist()\n",
    "y_train = train['label'].tolist()"
   ]
  },
  {
   "cell_type": "code",
   "execution_count": null,
   "metadata": {
    "colab": {
     "base_uri": "https://localhost:8080/"
    },
    "id": "YgDcnLhQ3Q-2",
    "outputId": "dcb6f8ad-1501-4a70-ffdb-133d51ab908f"
   },
   "outputs": [
    {
     "name": "stdout",
     "output_type": "stream",
     "text": [
      "   Unnamed: 0                         jp_sentence     label\n",
      "0        1350                            退却! 隠れろ!  informal\n",
      "1        1373                                 異常?  informal\n",
      "2         685                           チャーリーは死んだ  informal\n",
      "3         855         一年に一回, 毎年, みんな... 祝ってくれるんだ.  informal\n",
      "4        1318  うろたえることなく 答えることが出来る人物 それがなぜ重要なんです?    polite\n"
     ]
    }
   ],
   "source": [
    "# load the balanced validation set\n",
    "with open(\"/content/drive/MyDrive/Colab Notebooks/Model/JESC/balanced_dev.csv\") as file:\n",
    "    dev = pd.read_csv(file)\n",
    "\n",
    "print(dev.head())"
   ]
  },
  {
   "cell_type": "code",
   "execution_count": null,
   "metadata": {
    "id": "K6fpapUE3RKf"
   },
   "outputs": [],
   "source": [
    "# convert to format expected by ktrain\n",
    "x_dev = dev['jp_sentence'].tolist()\n",
    "y_dev = dev['label'].tolist()"
   ]
  },
  {
   "cell_type": "markdown",
   "metadata": {
    "id": "kzoQXiGZ4B3X"
   },
   "source": [
    "## Create and fit the model"
   ]
  },
  {
   "cell_type": "code",
   "execution_count": null,
   "metadata": {
    "colab": {
     "base_uri": "https://localhost:8080/",
     "height": 173
    },
    "id": "lbQX8TBU4CRL",
    "outputId": "c79a0d62-a9f1-4ee6-c036-37b24f3712f7"
   },
   "outputs": [
    {
     "name": "stderr",
     "output_type": "stream",
     "text": [
      "/usr/local/lib/python3.7/dist-packages/ktrain/text/preprocessor.py:422: UserWarning: The class_names argument is replacing the classes argument. Please update your code.\n",
      "  warnings.warn('The class_names argument is replacing the classes argument. Please update your code.')\n",
      "/usr/local/lib/python3.7/dist-packages/ktrain/utils.py:625: UserWarning: class_names argument was ignored, as they were extracted from string labels in dataset\n",
      "  if self.get_classes(): warnings.warn('class_names argument was ignored, as they were extracted from string labels in dataset')\n"
     ]
    },
    {
     "name": "stdout",
     "output_type": "stream",
     "text": [
      "preprocessing train...\n",
      "language: ja\n"
     ]
    },
    {
     "data": {
      "text/html": [
       "\n",
       "<style>\n",
       "    /* Turns off some styling */\n",
       "    progress {\n",
       "        /* gets rid of default border in Firefox and Opera. */\n",
       "        border: none;\n",
       "        /* Needs to be in here for Safari polyfill so background images work as expected. */\n",
       "        background-size: auto;\n",
       "    }\n",
       "    .progress-bar-interrupted, .progress-bar-interrupted::-webkit-progress-bar {\n",
       "        background: #F44336;\n",
       "    }\n",
       "</style>\n"
      ],
      "text/plain": [
       "<IPython.core.display.HTML object>"
      ]
     },
     "metadata": {},
     "output_type": "display_data"
    },
    {
     "data": {
      "text/html": [],
      "text/plain": [
       "<IPython.core.display.HTML object>"
      ]
     },
     "metadata": {},
     "output_type": "display_data"
    },
    {
     "name": "stdout",
     "output_type": "stream",
     "text": [
      "Is Multi-Label? False\n",
      "preprocessing test...\n",
      "language: ja\n"
     ]
    },
    {
     "data": {
      "text/html": [
       "\n",
       "<style>\n",
       "    /* Turns off some styling */\n",
       "    progress {\n",
       "        /* gets rid of default border in Firefox and Opera. */\n",
       "        border: none;\n",
       "        /* Needs to be in here for Safari polyfill so background images work as expected. */\n",
       "        background-size: auto;\n",
       "    }\n",
       "    .progress-bar-interrupted, .progress-bar-interrupted::-webkit-progress-bar {\n",
       "        background: #F44336;\n",
       "    }\n",
       "</style>\n"
      ],
      "text/plain": [
       "<IPython.core.display.HTML object>"
      ]
     },
     "metadata": {},
     "output_type": "display_data"
    },
    {
     "data": {
      "text/html": [],
      "text/plain": [
       "<IPython.core.display.HTML object>"
      ]
     },
     "metadata": {},
     "output_type": "display_data"
    }
   ],
   "source": [
    "MODEL_NAME = 'cl-tohoku/bert-base-japanese-v2'\n",
    "t = text.Transformer(MODEL_NAME, maxlen=128, classes=['polite', 'informal'])\n",
    "trn = t.preprocess_train(x_train, y_train)\n",
    "val = t.preprocess_test(x_dev, y_dev)\n",
    "model = t.get_classifier()\n",
    "learner = ktrain.get_learner(model, train_data=trn, val_data=val, batch_size=12)"
   ]
  },
  {
   "cell_type": "code",
   "execution_count": null,
   "metadata": {
    "colab": {
     "base_uri": "https://localhost:8080/"
    },
    "id": "8sRZLSc74CgF",
    "outputId": "64b6a5e9-0a8d-47da-f059-827226732930"
   },
   "outputs": [
    {
     "name": "stdout",
     "output_type": "stream",
     "text": [
      "\n",
      "\n",
      "begin training using onecycle policy with max lr of 5e-05...\n",
      "Epoch 1/3\n",
      "4167/4167 [==============================] - 942s 219ms/step - loss: 0.0368 - accuracy: 0.9899 - val_loss: 0.0298 - val_accuracy: 0.9946\n",
      "Epoch 2/3\n",
      "4167/4167 [==============================] - 921s 218ms/step - loss: 0.0190 - accuracy: 0.9969 - val_loss: 0.0340 - val_accuracy: 0.9946\n",
      "Epoch 3/3\n",
      "4167/4167 [==============================] - 926s 219ms/step - loss: 0.0172 - accuracy: 0.9975 - val_loss: 0.0178 - val_accuracy: 0.9973\n"
     ]
    },
    {
     "data": {
      "text/plain": [
       "<keras.callbacks.History at 0x7fd58a635ed0>"
      ]
     },
     "execution_count": 23,
     "metadata": {},
     "output_type": "execute_result"
    }
   ],
   "source": [
    "learner.fit_onecycle(5e-5, 3)"
   ]
  },
  {
   "cell_type": "markdown",
   "metadata": {
    "id": "jriVeOCPmlpy"
   },
   "source": [
    "## Evaluate the model"
   ]
  },
  {
   "cell_type": "code",
   "execution_count": null,
   "metadata": {
    "colab": {
     "base_uri": "https://localhost:8080/"
    },
    "id": "oM3YAOpT_hkw",
    "outputId": "e4b63800-4d82-4e09-cd2e-a3a1e40290f1"
   },
   "outputs": [
    {
     "name": "stdout",
     "output_type": "stream",
     "text": [
      "              precision    recall  f1-score   support\n",
      "\n",
      "    informal       0.99      1.00      1.00       368\n",
      "      polite       1.00      0.99      1.00       368\n",
      "\n",
      "    accuracy                           1.00       736\n",
      "   macro avg       1.00      1.00      1.00       736\n",
      "weighted avg       1.00      1.00      1.00       736\n",
      "\n"
     ]
    },
    {
     "data": {
      "text/plain": [
       "array([[368,   0],\n",
       "       [  2, 366]])"
      ]
     },
     "execution_count": 24,
     "metadata": {},
     "output_type": "execute_result"
    }
   ],
   "source": [
    "learner.validate(class_names=t.get_classes())"
   ]
  },
  {
   "cell_type": "markdown",
   "metadata": {
    "id": "fVbyLut0mkPA"
   },
   "source": [
    "*Results indicate that using a balanced validation set improved the model performance - the model now assigns both labels to input.*"
   ]
  },
  {
   "cell_type": "markdown",
   "metadata": {
    "id": "uCKCVdHknvdw"
   },
   "source": [
    "## Save the predictor"
   ]
  },
  {
   "cell_type": "code",
   "execution_count": null,
   "metadata": {
    "id": "q-lmVX1X82ky"
   },
   "outputs": [],
   "source": [
    "# save the model in the drive as Colab environment does not store models permanently\n",
    "predictor = ktrain.get_predictor(learner.model, preproc=t)\n",
    "predictor.save('/content/drive/MyDrive/mini_jf_classifier')"
   ]
  },
  {
   "cell_type": "markdown",
   "metadata": {
    "id": "6npVGL_sqMVu"
   },
   "source": [
    "## Load the test set and predict using the model"
   ]
  },
  {
   "cell_type": "code",
   "execution_count": null,
   "metadata": {
    "colab": {
     "base_uri": "https://localhost:8080/"
    },
    "id": "151vaEHm3VdX",
    "outputId": "eebf1088-edd3-4d24-9772-5700d7107d60"
   },
   "outputs": [
    {
     "name": "stdout",
     "output_type": "stream",
     "text": [
      "        jp_sentence\n",
      "0           ほぼ無関係です\n",
      "1         ゲイル 酔ってる?\n",
      "2              注意しろ\n",
      "3  最後の引き出しが 5日前にあった\n",
      "4    僕が自殺し 物語を完成させる\n"
     ]
    }
   ],
   "source": [
    "# load unlabelled test set for the model to make predictions\n",
    "with open(\"/content/drive/MyDrive/Colab Notebooks/Model/JESC/test-unlabelled.csv\") as file:\n",
    "    test = pd.read_csv(file)\n",
    "\n",
    "print(test.head())"
   ]
  },
  {
   "cell_type": "code",
   "execution_count": null,
   "metadata": {
    "id": "tssSY9iF3o2Z"
   },
   "outputs": [],
   "source": [
    "# convert to format expected by ktrain model\n",
    "test = test['jp_sentence'].tolist()"
   ]
  },
  {
   "cell_type": "code",
   "execution_count": null,
   "metadata": {
    "id": "AqRvxiTK3Phj"
   },
   "outputs": [],
   "source": [
    "# make predictions on the test set\n",
    "pred = predictor.predict(test)"
   ]
  },
  {
   "cell_type": "code",
   "execution_count": null,
   "metadata": {
    "colab": {
     "base_uri": "https://localhost:8080/"
    },
    "id": "Jdb75IcTCwem",
    "outputId": "835b4b67-e714-4069-df16-721423b57660"
   },
   "outputs": [
    {
     "name": "stdout",
     "output_type": "stream",
     "text": [
      "['polite', 'informal', 'informal', 'informal', 'informal', 'informal', 'polite', 'informal', 'informal', 'informal', 'informal', 'informal', 'informal', 'informal', 'informal', 'informal', 'informal', 'informal', 'informal', 'informal', 'informal', 'informal', 'informal', 'informal', 'polite', 'informal', 'informal', 'polite', 'informal', 'polite', 'informal', 'informal', 'informal', 'polite', 'informal', 'informal', 'informal', 'informal', 'informal', 'informal', 'informal', 'polite', 'informal', 'informal', 'informal', 'informal', 'informal', 'informal', 'polite', 'informal', 'informal', 'informal', 'informal', 'informal', 'informal', 'informal', 'polite', 'informal', 'polite', 'informal', 'informal', 'informal', 'polite', 'informal', 'informal', 'informal', 'informal', 'informal', 'polite', 'polite', 'informal', 'informal', 'informal', 'informal', 'informal', 'informal', 'informal', 'polite', 'informal', 'informal', 'informal', 'informal', 'informal', 'polite', 'informal', 'informal', 'informal', 'informal', 'polite', 'polite', 'informal', 'informal', 'informal', 'informal', 'polite', 'informal', 'informal', 'polite', 'informal', 'informal', 'polite', 'polite', 'informal', 'informal', 'informal', 'polite', 'informal', 'informal', 'informal', 'informal', 'polite', 'informal', 'informal', 'informal', 'informal', 'informal', 'informal', 'informal', 'informal', 'informal', 'informal', 'polite', 'informal', 'informal', 'informal', 'informal', 'polite', 'informal', 'polite', 'informal', 'informal', 'informal', 'polite', 'informal', 'informal', 'polite', 'polite', 'informal', 'informal', 'informal', 'informal', 'informal', 'polite', 'informal', 'polite', 'informal', 'informal', 'informal', 'informal', 'informal', 'polite', 'informal', 'informal', 'polite', 'polite', 'informal', 'informal', 'informal', 'informal', 'informal', 'informal', 'polite', 'polite', 'polite', 'polite', 'informal', 'informal', 'informal', 'polite', 'informal', 'informal', 'informal', 'polite', 'polite', 'informal', 'informal', 'polite', 'informal', 'informal', 'informal', 'informal', 'informal', 'informal', 'informal', 'informal', 'polite', 'informal', 'informal', 'informal', 'informal', 'informal', 'informal', 'informal', 'informal', 'informal', 'informal', 'informal', 'informal', 'informal', 'informal', 'informal', 'informal', 'polite', 'informal', 'informal', 'polite', 'informal', 'informal', 'informal', 'informal', 'polite', 'informal', 'polite', 'informal', 'polite', 'informal', 'polite', 'informal', 'informal', 'polite', 'informal', 'polite', 'informal', 'informal', 'polite', 'informal', 'informal', 'informal', 'informal', 'informal', 'polite', 'informal', 'informal', 'informal', 'informal', 'informal', 'informal', 'polite', 'informal', 'informal', 'informal', 'informal', 'polite', 'informal', 'informal', 'polite', 'informal', 'informal', 'informal', 'informal', 'polite', 'informal', 'informal', 'polite', 'informal', 'informal', 'informal', 'informal', 'informal', 'informal', 'informal', 'informal', 'informal', 'informal', 'informal', 'informal', 'informal', 'polite', 'informal', 'informal', 'polite', 'informal', 'polite', 'informal', 'informal', 'informal', 'informal', 'informal', 'informal', 'informal', 'informal', 'polite', 'informal', 'polite', 'polite', 'informal', 'polite', 'polite', 'informal', 'informal', 'informal', 'informal', 'informal', 'informal', 'informal', 'polite', 'informal', 'informal', 'informal', 'polite', 'informal', 'informal', 'informal', 'informal', 'informal', 'informal', 'informal', 'informal', 'informal', 'informal', 'informal', 'informal', 'polite', 'informal', 'polite', 'informal', 'informal', 'informal', 'informal', 'informal', 'informal', 'informal', 'informal', 'polite', 'polite', 'informal', 'informal', 'polite', 'informal', 'polite', 'informal', 'polite', 'informal', 'informal', 'informal', 'informal', 'informal', 'polite', 'informal', 'informal', 'polite', 'informal', 'informal', 'polite', 'informal', 'informal', 'informal', 'informal', 'informal', 'informal', 'informal', 'polite', 'informal', 'informal', 'informal', 'informal', 'polite', 'informal', 'informal', 'informal', 'informal', 'informal', 'informal', 'informal', 'polite', 'informal', 'informal', 'informal', 'polite', 'informal', 'informal', 'informal', 'informal', 'informal', 'polite', 'informal', 'informal', 'informal', 'informal', 'polite', 'informal', 'polite', 'informal', 'informal', 'informal', 'informal', 'polite', 'informal', 'informal', 'informal', 'informal', 'informal', 'informal', 'polite', 'informal', 'polite', 'informal', 'informal', 'informal', 'informal', 'polite', 'informal', 'informal', 'polite', 'informal', 'informal', 'informal', 'informal', 'polite', 'informal', 'informal', 'informal', 'informal', 'polite', 'informal', 'informal', 'informal', 'informal', 'informal', 'informal', 'polite', 'polite', 'polite', 'informal', 'informal', 'informal', 'polite', 'informal', 'informal', 'informal', 'polite', 'informal', 'polite', 'informal', 'polite', 'polite', 'informal', 'polite', 'polite', 'polite', 'informal', 'informal', 'informal', 'informal', 'informal', 'informal', 'informal', 'informal', 'informal', 'informal', 'informal', 'informal', 'informal', 'polite', 'informal', 'polite', 'informal', 'informal', 'informal', 'informal', 'informal', 'informal', 'informal', 'polite', 'informal', 'informal', 'informal', 'informal', 'informal', 'informal', 'informal', 'informal', 'informal', 'informal', 'polite', 'informal', 'informal', 'informal', 'informal', 'informal', 'informal', 'polite', 'informal', 'informal', 'informal', 'informal', 'informal', 'polite', 'informal', 'informal', 'polite', 'informal', 'informal', 'informal', 'informal', 'informal', 'informal', 'informal', 'informal', 'polite', 'informal', 'polite', 'informal', 'informal', 'informal', 'informal', 'informal', 'informal', 'informal', 'informal', 'informal', 'informal', 'informal', 'informal', 'informal', 'informal', 'informal', 'informal', 'informal', 'polite', 'informal', 'informal', 'informal', 'informal', 'informal', 'informal', 'informal', 'informal', 'informal', 'informal', 'informal', 'informal', 'informal', 'informal', 'polite', 'informal', 'informal', 'informal', 'informal', 'informal', 'informal', 'informal', 'informal', 'informal', 'informal', 'informal', 'polite', 'informal', 'informal', 'informal', 'informal', 'informal', 'informal', 'polite', 'informal', 'informal', 'polite', 'informal', 'polite', 'informal', 'informal', 'informal', 'informal', 'informal', 'informal', 'polite', 'informal', 'polite', 'informal', 'informal', 'informal', 'informal', 'polite', 'polite', 'informal', 'polite', 'informal', 'polite', 'polite', 'informal', 'polite', 'informal', 'informal', 'informal', 'informal', 'informal', 'polite', 'informal', 'informal', 'informal', 'informal', 'informal', 'informal', 'informal', 'informal', 'informal', 'informal', 'informal', 'informal', 'informal', 'informal', 'informal', 'informal', 'polite', 'informal', 'informal', 'informal', 'informal', 'informal', 'informal', 'informal', 'informal', 'informal', 'informal', 'informal', 'informal', 'informal', 'polite', 'polite', 'informal', 'polite', 'informal', 'informal', 'informal', 'informal', 'informal', 'informal', 'informal', 'informal', 'informal', 'informal', 'polite', 'informal', 'informal', 'polite', 'informal', 'informal', 'informal', 'informal', 'informal', 'informal', 'polite', 'polite', 'informal', 'informal', 'informal', 'informal', 'informal', 'informal', 'polite', 'informal', 'polite', 'polite', 'informal', 'informal', 'informal', 'informal', 'informal', 'informal', 'informal', 'informal', 'informal', 'informal', 'polite', 'informal', 'informal', 'informal', 'informal', 'informal', 'informal', 'informal', 'informal', 'informal', 'informal', 'informal', 'informal', 'informal', 'informal', 'informal', 'informal', 'informal', 'informal', 'informal', 'informal', 'polite', 'informal', 'informal', 'informal', 'informal', 'informal', 'informal', 'informal', 'informal', 'informal', 'polite', 'informal', 'informal', 'informal', 'informal', 'informal', 'informal', 'polite', 'informal', 'informal', 'informal', 'informal', 'informal', 'informal', 'informal', 'informal', 'informal', 'informal', 'informal', 'informal', 'informal', 'informal', 'informal', 'informal', 'informal', 'informal', 'informal', 'informal', 'informal', 'polite', 'informal', 'informal', 'informal', 'informal', 'polite', 'informal', 'informal', 'informal', 'informal', 'informal', 'informal', 'informal', 'informal', 'informal', 'informal', 'polite', 'informal', 'informal', 'informal', 'informal', 'informal', 'polite', 'informal', 'informal', 'polite', 'informal', 'informal', 'informal', 'informal', 'informal', 'informal', 'informal', 'informal', 'polite', 'informal', 'polite', 'polite', 'informal', 'informal', 'informal', 'informal', 'informal', 'informal', 'polite', 'informal', 'informal', 'informal', 'polite', 'informal', 'polite', 'informal', 'informal', 'informal', 'informal', 'informal', 'informal', 'informal', 'informal', 'informal', 'informal', 'informal', 'informal', 'informal', 'informal', 'informal', 'polite', 'informal', 'informal', 'informal', 'polite', 'informal', 'informal', 'informal', 'informal', 'polite', 'informal', 'informal', 'polite', 'informal', 'informal', 'informal', 'polite', 'informal', 'informal', 'informal', 'informal', 'informal', 'informal', 'polite', 'polite', 'informal', 'polite', 'informal', 'informal', 'polite', 'informal', 'informal', 'informal', 'informal', 'informal', 'informal', 'informal', 'polite', 'informal', 'informal', 'informal', 'informal', 'informal', 'informal', 'informal', 'informal', 'polite', 'informal', 'informal', 'informal', 'informal', 'polite', 'polite', 'polite', 'polite', 'informal', 'informal', 'informal', 'informal', 'informal', 'informal', 'polite', 'informal', 'informal', 'informal', 'informal', 'informal', 'informal', 'polite', 'polite', 'informal', 'informal', 'polite', 'informal', 'informal', 'informal', 'informal', 'informal', 'informal', 'informal', 'informal', 'informal', 'polite', 'informal', 'informal', 'informal', 'polite', 'informal', 'informal', 'informal', 'polite', 'informal', 'informal', 'informal', 'informal', 'informal', 'informal', 'informal', 'polite', 'informal', 'polite', 'informal', 'polite', 'informal', 'informal', 'informal', 'informal', 'informal', 'informal', 'informal', 'informal', 'polite', 'informal', 'polite', 'polite', 'informal', 'informal', 'informal', 'polite', 'informal', 'polite', 'informal', 'informal', 'informal', 'informal', 'informal', 'informal', 'informal', 'polite', 'informal', 'polite', 'informal', 'informal', 'informal', 'informal', 'informal', 'informal', 'informal', 'informal', 'polite', 'informal', 'polite', 'informal', 'informal', 'informal', 'polite', 'informal', 'informal', 'polite', 'informal', 'informal', 'polite', 'polite', 'informal', 'informal', 'informal', 'informal', 'informal', 'informal', 'polite', 'informal', 'informal', 'informal', 'polite', 'informal', 'polite', 'polite', 'informal', 'informal', 'informal', 'informal', 'informal', 'informal', 'informal', 'informal', 'polite', 'informal', 'informal', 'informal', 'polite', 'informal', 'informal', 'informal', 'informal', 'informal', 'informal', 'informal', 'informal', 'informal', 'informal', 'informal', 'polite', 'informal', 'polite', 'informal', 'informal', 'informal', 'informal', 'informal', 'informal', 'informal', 'informal', 'informal', 'polite', 'informal', 'informal', 'informal', 'informal', 'informal', 'informal', 'informal', 'informal', 'polite', 'informal', 'polite', 'polite', 'polite', 'polite', 'informal', 'informal', 'informal', 'informal', 'informal', 'informal', 'informal', 'informal', 'informal', 'informal', 'informal', 'informal', 'polite', 'informal', 'polite', 'informal', 'informal', 'informal', 'informal', 'informal', 'informal', 'informal', 'informal', 'informal', 'informal', 'informal', 'informal', 'informal', 'polite', 'informal', 'informal', 'informal', 'informal', 'informal', 'informal', 'informal', 'polite', 'informal', 'informal', 'informal', 'informal', 'informal', 'polite', 'informal', 'informal', 'informal', 'informal', 'informal', 'informal', 'polite', 'informal', 'informal', 'informal', 'polite', 'informal', 'informal', 'informal', 'polite', 'polite', 'informal', 'informal', 'informal', 'polite', 'polite', 'informal', 'informal', 'informal', 'informal', 'informal', 'polite', 'informal', 'informal', 'polite', 'informal', 'informal', 'polite', 'informal', 'informal', 'polite', 'polite', 'informal', 'informal', 'informal', 'informal', 'informal', 'informal', 'polite', 'informal', 'polite', 'informal', 'informal', 'informal', 'informal', 'polite', 'informal', 'informal', 'informal', 'polite', 'informal', 'informal', 'informal', 'informal', 'informal', 'informal', 'informal', 'polite', 'informal', 'informal', 'polite', 'polite', 'informal', 'informal', 'informal', 'informal', 'informal', 'informal', 'informal', 'informal', 'informal', 'polite', 'informal', 'informal', 'informal', 'informal', 'informal', 'informal', 'polite', 'informal', 'polite', 'polite', 'informal', 'informal', 'informal', 'polite', 'informal', 'informal', 'informal', 'polite', 'informal', 'informal', 'informal', 'polite', 'informal', 'informal', 'informal', 'informal', 'polite', 'informal', 'informal', 'informal', 'informal', 'informal', 'informal', 'polite', 'informal', 'informal', 'informal', 'informal', 'polite', 'informal', 'polite', 'polite', 'informal', 'informal', 'informal', 'informal', 'informal', 'informal', 'informal', 'informal', 'informal', 'informal', 'informal', 'informal', 'informal', 'polite', 'polite', 'informal', 'informal', 'informal', 'informal', 'informal', 'informal', 'informal', 'informal', 'polite', 'informal', 'informal', 'informal', 'informal', 'informal', 'polite', 'polite', 'informal', 'polite', 'informal', 'informal', 'polite', 'informal', 'informal', 'informal', 'informal', 'informal', 'informal', 'polite', 'informal', 'informal', 'informal', 'informal', 'polite', 'informal', 'informal', 'polite', 'informal', 'informal', 'informal', 'informal', 'informal', 'polite', 'polite', 'informal', 'informal', 'informal', 'informal', 'informal', 'informal', 'informal', 'informal', 'informal', 'informal', 'informal', 'informal', 'informal', 'informal', 'informal', 'informal', 'informal', 'polite', 'informal', 'informal', 'informal', 'informal', 'informal', 'informal', 'informal', 'informal', 'informal', 'polite', 'informal', 'informal', 'informal', 'informal', 'informal', 'polite', 'polite', 'informal', 'informal', 'informal', 'informal', 'informal', 'informal', 'informal', 'informal', 'informal', 'informal', 'informal', 'informal', 'informal', 'informal', 'polite', 'informal', 'informal', 'informal', 'polite', 'polite', 'polite', 'informal', 'informal', 'informal', 'informal', 'polite', 'polite', 'informal', 'informal', 'polite', 'informal', 'polite', 'informal', 'informal', 'informal', 'informal', 'informal', 'informal', 'informal', 'informal', 'informal', 'polite', 'polite', 'informal', 'informal', 'informal', 'informal', 'polite', 'informal', 'informal', 'informal', 'informal', 'informal', 'polite', 'informal', 'informal', 'informal', 'polite', 'informal', 'informal', 'informal', 'informal', 'informal', 'informal', 'informal', 'polite', 'informal', 'polite', 'informal', 'polite', 'informal', 'polite', 'informal', 'informal', 'informal', 'informal', 'informal', 'informal', 'informal', 'informal', 'informal', 'informal', 'informal', 'informal', 'informal', 'informal', 'informal', 'informal', 'informal', 'informal', 'informal', 'polite', 'informal', 'informal', 'polite', 'informal', 'informal', 'informal', 'informal', 'informal', 'informal', 'polite', 'informal', 'informal', 'informal', 'polite', 'informal', 'informal', 'informal', 'informal', 'informal', 'informal', 'polite', 'informal', 'informal', 'informal', 'informal', 'informal', 'informal', 'informal', 'informal', 'informal', 'polite', 'informal', 'informal', 'informal', 'informal', 'informal', 'informal', 'polite', 'informal', 'informal', 'polite', 'polite', 'informal', 'polite', 'informal', 'informal', 'informal', 'informal', 'informal', 'informal', 'informal', 'informal', 'informal', 'informal', 'informal', 'polite', 'informal', 'informal', 'informal', 'informal', 'informal', 'polite', 'informal', 'informal', 'informal', 'informal', 'polite', 'informal', 'informal', 'informal', 'informal', 'polite', 'informal', 'polite', 'informal', 'polite', 'informal', 'informal', 'polite', 'informal', 'polite', 'polite', 'informal', 'informal', 'informal', 'informal', 'informal', 'informal', 'informal', 'polite', 'polite', 'informal', 'polite', 'informal', 'informal', 'informal', 'informal', 'informal', 'polite', 'informal', 'informal', 'informal', 'informal', 'informal', 'informal', 'informal', 'informal', 'informal', 'informal', 'informal', 'informal', 'informal', 'informal', 'polite', 'informal', 'informal', 'informal', 'informal', 'informal', 'informal', 'informal', 'polite', 'polite', 'polite', 'informal', 'informal', 'informal', 'informal', 'informal', 'informal', 'informal', 'polite', 'informal', 'informal', 'polite', 'informal', 'informal', 'informal', 'polite', 'informal', 'informal', 'informal', 'informal', 'informal', 'informal', 'informal', 'informal', 'informal', 'informal', 'polite', 'polite', 'informal', 'informal', 'informal', 'informal', 'informal', 'informal', 'informal', 'informal', 'polite', 'informal', 'informal', 'informal', 'informal', 'informal', 'informal', 'informal', 'informal', 'informal', 'informal', 'informal', 'informal', 'informal', 'informal', 'informal', 'informal', 'informal', 'informal', 'informal', 'polite', 'informal', 'informal', 'informal', 'polite', 'informal', 'informal', 'informal', 'informal', 'informal', 'informal', 'informal', 'polite', 'informal', 'informal', 'informal', 'informal', 'informal', 'informal', 'informal', 'informal', 'informal', 'informal', 'polite', 'informal', 'polite', 'informal', 'informal', 'informal', 'informal', 'informal', 'informal', 'informal', 'polite', 'informal', 'informal', 'informal', 'informal', 'informal', 'informal', 'informal', 'informal', 'informal', 'polite', 'polite', 'polite', 'informal', 'informal', 'informal', 'informal', 'informal', 'informal', 'informal', 'informal', 'informal', 'informal', 'informal', 'informal', 'informal', 'informal', 'polite', 'informal', 'polite', 'informal', 'informal', 'informal', 'informal', 'informal', 'informal', 'polite', 'informal', 'informal', 'polite', 'informal', 'informal', 'informal', 'informal', 'informal', 'informal', 'informal', 'informal', 'informal', 'polite', 'informal', 'informal', 'informal', 'informal', 'informal', 'informal', 'informal', 'polite', 'informal', 'informal', 'polite', 'informal', 'polite', 'informal', 'informal', 'informal', 'informal', 'informal', 'polite', 'informal', 'informal', 'polite', 'polite', 'informal', 'informal', 'informal', 'informal', 'informal', 'informal', 'informal', 'informal', 'informal', 'informal', 'informal', 'polite', 'informal', 'informal', 'informal', 'informal', 'informal', 'informal', 'informal', 'informal', 'informal', 'informal', 'informal', 'informal', 'informal', 'informal', 'informal', 'informal', 'polite', 'informal', 'informal', 'informal', 'informal', 'informal', 'informal', 'polite', 'polite', 'informal', 'informal', 'polite', 'informal', 'informal', 'informal', 'polite', 'informal', 'informal', 'informal', 'polite', 'informal', 'informal', 'informal', 'informal', 'informal', 'informal', 'informal', 'informal', 'informal', 'polite', 'informal', 'informal', 'polite', 'informal', 'informal', 'informal', 'polite', 'polite', 'polite', 'polite', 'informal', 'polite', 'informal', 'informal', 'polite', 'informal', 'informal', 'informal', 'informal', 'informal', 'informal', 'polite', 'polite', 'polite', 'informal', 'informal', 'informal', 'informal', 'informal', 'informal', 'informal', 'informal', 'informal', 'polite', 'informal', 'informal', 'informal', 'informal', 'informal', 'informal', 'informal', 'informal', 'polite', 'polite', 'informal', 'informal', 'informal', 'informal', 'informal', 'informal', 'informal', 'informal', 'polite', 'informal', 'informal', 'polite', 'polite', 'polite', 'informal', 'informal', 'informal', 'informal', 'informal', 'informal', 'informal', 'informal', 'polite', 'informal', 'informal', 'informal', 'polite', 'informal', 'informal', 'informal', 'informal', 'informal', 'informal', 'informal', 'polite', 'informal', 'polite', 'informal', 'informal', 'informal', 'polite', 'informal', 'polite', 'informal', 'informal', 'informal', 'polite', 'polite', 'informal', 'informal', 'polite', 'informal', 'informal', 'informal', 'informal', 'polite', 'informal', 'informal', 'informal', 'informal', 'informal', 'informal', 'informal', 'polite', 'informal', 'informal', 'informal', 'informal', 'polite', 'polite', 'informal', 'informal', 'polite', 'informal', 'polite', 'informal', 'informal', 'informal', 'informal', 'informal', 'informal', 'informal', 'informal', 'polite', 'informal', 'informal', 'informal', 'polite', 'informal', 'informal', 'informal', 'informal', 'informal', 'informal', 'polite', 'informal', 'informal', 'polite', 'informal', 'informal', 'polite', 'polite', 'informal', 'informal', 'informal', 'informal', 'informal', 'informal', 'informal', 'informal', 'informal', 'informal', 'informal', 'polite', 'informal', 'informal', 'informal', 'polite', 'informal', 'polite', 'informal', 'informal', 'informal', 'informal', 'informal', 'informal', 'informal', 'polite', 'polite', 'informal', 'informal', 'informal', 'informal', 'informal', 'informal', 'informal', 'informal', 'informal', 'informal', 'informal', 'informal', 'informal', 'informal', 'informal', 'informal', 'informal', 'informal', 'informal', 'informal', 'informal', 'informal', 'polite', 'informal', 'polite', 'informal', 'informal', 'informal', 'polite', 'informal', 'informal', 'informal', 'informal', 'informal', 'informal', 'polite', 'informal', 'informal', 'informal', 'informal', 'informal', 'informal', 'informal', 'informal', 'informal', 'informal', 'informal', 'polite', 'informal', 'informal', 'polite', 'informal', 'informal', 'informal', 'polite', 'polite', 'informal', 'informal', 'informal', 'informal', 'polite', 'informal', 'polite', 'informal', 'polite', 'informal', 'informal', 'informal', 'informal', 'informal', 'informal', 'polite', 'informal', 'informal', 'polite', 'informal', 'informal', 'informal', 'informal', 'informal', 'informal', 'informal', 'informal', 'informal', 'informal', 'polite', 'informal', 'polite', 'informal', 'polite', 'informal', 'informal', 'informal', 'informal', 'informal', 'polite', 'polite', 'polite', 'informal', 'informal', 'informal', 'informal', 'polite', 'informal', 'polite', 'informal', 'informal', 'polite', 'informal', 'informal', 'informal', 'informal', 'polite', 'informal', 'informal', 'informal', 'informal', 'informal', 'informal', 'informal', 'informal', 'informal', 'polite', 'informal', 'informal', 'polite', 'informal', 'informal', 'informal', 'informal']\n"
     ]
    }
   ],
   "source": [
    "print(pred)"
   ]
  },
  {
   "cell_type": "markdown",
   "metadata": {
    "id": "oJlFA47urUo3"
   },
   "source": [
    "## Evaluate predictions made by the model against the answers"
   ]
  },
  {
   "cell_type": "code",
   "execution_count": null,
   "metadata": {
    "colab": {
     "base_uri": "https://localhost:8080/"
    },
    "id": "ekfNCcqoq1gV",
    "outputId": "d8cd4a82-0a3e-4ee9-f5c8-688c1ddb0302"
   },
   "outputs": [
    {
     "name": "stdout",
     "output_type": "stream",
     "text": [
      "                     jp_sentence     label\n",
      "0                        ほぼ無関係です    polite\n",
      "1                      ゲイル 酔ってる?  informal\n",
      "2                           注意しろ  informal\n",
      "3               最後の引き出しが 5日前にあった  informal\n",
      "4                 僕が自殺し 物語を完成させる  informal\n",
      "5                    国際犯罪に起きたのか?  informal\n",
      "6      皆さんのiphoneで この活動に繋がってください    polite\n",
      "7                 なら ついてくればいいでしょ  informal\n",
      "8        それで こんなザマに 理由なんて どうでもいい  informal\n",
      "9                      ああ 約束するぜ!  informal\n",
      "10               ダイナマイト tnt 雷酸水銀  informal\n",
      "11    売っちゃうよ! あの家。 家族みんな バラバラだよ。  informal\n",
      "12                          遅いわよ  informal\n",
      "13                       携帯を出したら  informal\n",
      "14                     やめろ やめるんだ  informal\n",
      "15         裁判所の判断によっては 子供たちは定期的に  informal\n",
      "16  役者も まだ。 監督も まだ。 もちろん 企画も まだ。  informal\n",
      "17                          問題ない  informal\n",
      "18        駆除業者に捕まれば 二度と戻っては来られまい  informal\n",
      "19                     我らの役目...。  informal\n",
      "20                 レトロウイルスによるもの?  informal\n",
      "21                          ユーリ!  informal\n",
      "22         何とかクリスマスまでに 彼女が欲しいんだよ  informal\n",
      "23             あなたは4年の間 ボトルの底にいる  informal\n",
      "24      レゴが提供しているcadプログラムでは不十分です    polite\n",
      "25                        治療行為なの  informal\n",
      "26               観客が誰もいない ガラ空きだわ  informal\n",
      "27       何か共通した結論を導くことができるでしょうか?    polite\n",
      "28         やばい、ふわふわしている変な助手に変えた!  informal\n",
      "29           この像をこんな風に包むために買いました    polite\n"
     ]
    }
   ],
   "source": [
    "# load test set with asnwers labelled using Japanese formality recoginition heuristic\n",
    "with open(\"/content/drive/MyDrive/Colab Notebooks/Model/JESC/test-labelled.csv\") as file:\n",
    "    test_labelled = pd.read_csv(file)\n",
    "\n",
    "print(test_labelled.head(30))\n",
    "answers = test_labelled['label'].tolist()"
   ]
  },
  {
   "cell_type": "code",
   "execution_count": null,
   "metadata": {
    "colab": {
     "base_uri": "https://localhost:8080/"
    },
    "id": "MP7CsqT50sZf",
    "outputId": "41db5c6e-73f2-47db-d747-28630e195b25"
   },
   "outputs": [
    {
     "name": "stdout",
     "output_type": "stream",
     "text": [
      "Accuracy Rate is: 0.997500\n"
     ]
    }
   ],
   "source": [
    "# Calculate Accuracy Rate manually\n",
    "count = len([\"ok\" for idx, label in enumerate(answers) if label == pred[idx]])\n",
    "print (\"Accuracy Rate is: %f\" % (float(count) / len(answers)))"
   ]
  },
  {
   "cell_type": "code",
   "execution_count": null,
   "metadata": {
    "id": "pXkkZ45LGhJc"
   },
   "outputs": [],
   "source": [
    "from sklearn.metrics import accuracy_score"
   ]
  },
  {
   "cell_type": "code",
   "execution_count": null,
   "metadata": {
    "colab": {
     "base_uri": "https://localhost:8080/"
    },
    "id": "MnyWbGt-Gws9",
    "outputId": "5ebc14c7-13b7-4046-8a1f-41bdfd1ca050"
   },
   "outputs": [
    {
     "name": "stdout",
     "output_type": "stream",
     "text": [
      "0.9975\n"
     ]
    }
   ],
   "source": [
    "# Calculate accuracy with scikit-learn method\n",
    "print(accuracy_score(answers, pred))"
   ]
  },
  {
   "cell_type": "code",
   "execution_count": null,
   "metadata": {
    "colab": {
     "base_uri": "https://localhost:8080/",
     "height": 17
    },
    "id": "XTn4WlGE2Zrn",
    "outputId": "39e643dc-7c4f-4c4c-f011-cdfadb9c53b4"
   },
   "outputs": [
    {
     "data": {
      "application/javascript": [
       "\n",
       "    async function download(id, filename, size) {\n",
       "      if (!google.colab.kernel.accessAllowed) {\n",
       "        return;\n",
       "      }\n",
       "      const div = document.createElement('div');\n",
       "      const label = document.createElement('label');\n",
       "      label.textContent = `Downloading \"${filename}\": `;\n",
       "      div.appendChild(label);\n",
       "      const progress = document.createElement('progress');\n",
       "      progress.max = size;\n",
       "      div.appendChild(progress);\n",
       "      document.body.appendChild(div);\n",
       "\n",
       "      const buffers = [];\n",
       "      let downloaded = 0;\n",
       "\n",
       "      const channel = await google.colab.kernel.comms.open(id);\n",
       "      // Send a message to notify the kernel that we're ready.\n",
       "      channel.send({})\n",
       "\n",
       "      for await (const message of channel.messages) {\n",
       "        // Send a message to notify the kernel that we're ready.\n",
       "        channel.send({})\n",
       "        if (message.buffers) {\n",
       "          for (const buffer of message.buffers) {\n",
       "            buffers.push(buffer);\n",
       "            downloaded += buffer.byteLength;\n",
       "            progress.value = downloaded;\n",
       "          }\n",
       "        }\n",
       "      }\n",
       "      const blob = new Blob(buffers, {type: 'application/binary'});\n",
       "      const a = document.createElement('a');\n",
       "      a.href = window.URL.createObjectURL(blob);\n",
       "      a.download = filename;\n",
       "      div.appendChild(a);\n",
       "      a.click();\n",
       "      div.remove();\n",
       "    }\n",
       "  "
      ],
      "text/plain": [
       "<IPython.core.display.Javascript object>"
      ]
     },
     "metadata": {},
     "output_type": "display_data"
    },
    {
     "data": {
      "application/javascript": [
       "download(\"download_191d198e-8efb-4a80-8925-f4d19077c803\", \"tf_model.h5\", 445122904)"
      ],
      "text/plain": [
       "<IPython.core.display.Javascript object>"
      ]
     },
     "metadata": {},
     "output_type": "display_data"
    }
   ],
   "source": [
    "# download the model file\n",
    "from google.colab import files\n",
    "f_dir = '/content/drive/MyDrive/mini_jf_classifier/tf_model.h5'\n",
    "files.download(f_dir)"
   ]
  },
  {
   "cell_type": "markdown",
   "metadata": {
    "id": "gTogf570eeaw"
   },
   "source": [
    "## Test on random sentences from BSD corpus"
   ]
  },
  {
   "cell_type": "code",
   "execution_count": null,
   "metadata": {
    "id": "Yqp3D8YDedw_"
   },
   "outputs": [],
   "source": [
    "reloaded_predictor = ktrain.load_predictor('/content/drive/MyDrive/mini_jf_classifier')"
   ]
  },
  {
   "cell_type": "code",
   "execution_count": null,
   "metadata": {
    "id": "X08H4xFPe3Bi"
   },
   "outputs": [],
   "source": [
    "# test the predictor on random sentences from BSD corpus - polite sentence\n",
    "reloaded_predictor.predict('はい、K社システム開発部です。')"
   ]
  },
  {
   "cell_type": "code",
   "execution_count": null,
   "metadata": {
    "colab": {
     "base_uri": "https://localhost:8080/",
     "height": 36
    },
    "id": "acRxNODVfYb5",
    "outputId": "9087348c-2170-4b22-d31f-6ea5fd9b2884"
   },
   "outputs": [
    {
     "data": {
      "application/vnd.google.colaboratory.intrinsic+json": {
       "type": "string"
      },
      "text/plain": [
       "'polite'"
      ]
     },
     "execution_count": 52,
     "metadata": {},
     "output_type": "execute_result"
    }
   ],
   "source": [
    "# polite sentence\n",
    "reloaded_predictor.predict('そうですね、しましょう。')"
   ]
  },
  {
   "cell_type": "code",
   "execution_count": null,
   "metadata": {
    "colab": {
     "base_uri": "https://localhost:8080/"
    },
    "id": "R9FErL93fLIY",
    "outputId": "b66a0d6c-b0f3-4618-ed39-7e4074f0618c"
   },
   "outputs": [
    {
     "data": {
      "text/plain": [
       "array([0.00144011, 0.9985599 ], dtype=float32)"
      ]
     },
     "execution_count": 51,
     "metadata": {},
     "output_type": "execute_result"
    }
   ],
   "source": [
    "# check probability of the prediction with ktrain inbuilt method\n",
    "reloaded_predictor.predict_proba('そうですね、しましょう。')"
   ]
  },
  {
   "cell_type": "code",
   "execution_count": null,
   "metadata": {
    "colab": {
     "base_uri": "https://localhost:8080/",
     "height": 36
    },
    "id": "HBMIvRYdgIWR",
    "outputId": "03db52bd-f058-4a95-997e-49d719e01233"
   },
   "outputs": [
    {
     "data": {
      "application/vnd.google.colaboratory.intrinsic+json": {
       "type": "string"
      },
      "text/plain": [
       "'informal'"
      ]
     },
     "execution_count": 53,
     "metadata": {},
     "output_type": "execute_result"
    }
   ],
   "source": [
    "# informal sentence\n",
    "reloaded_predictor.predict('良かった。')"
   ]
  }
 ],
 "metadata": {
  "accelerator": "GPU",
  "colab": {
   "collapsed_sections": [],
   "machine_shape": "hm",
   "name": "Final Model.ipynb",
   "provenance": []
  },
  "kernelspec": {
   "display_name": "Python 3",
   "language": "python",
   "name": "python3"
  },
  "language_info": {
   "codemirror_mode": {
    "name": "ipython",
    "version": 3
   },
   "file_extension": ".py",
   "mimetype": "text/x-python",
   "name": "python",
   "nbconvert_exporter": "python",
   "pygments_lexer": "ipython3",
   "version": "3.8.3"
  },
  "widgets": {
   "application/vnd.jupyter.widget-state+json": {
    "005ac32e87d443869142e460dd10de08": {
     "model_module": "@jupyter-widgets/controls",
     "model_module_version": "1.5.0",
     "model_name": "HTMLModel",
     "state": {
      "_dom_classes": [],
      "_model_module": "@jupyter-widgets/controls",
      "_model_module_version": "1.5.0",
      "_model_name": "HTMLModel",
      "_view_count": null,
      "_view_module": "@jupyter-widgets/controls",
      "_view_module_version": "1.5.0",
      "_view_name": "HTMLView",
      "description": "",
      "description_tooltip": null,
      "layout": "IPY_MODEL_950a269689214ba88973d80f8a71d2b7",
      "placeholder": "​",
      "style": "IPY_MODEL_fa0b85249f4946c88fb7bba81a2e8aaf",
      "value": " 236k/236k [00:00&lt;00:00, 3.64kB/s]"
     }
    },
    "007973c75d6b4ed187864608e263036b": {
     "model_module": "@jupyter-widgets/controls",
     "model_module_version": "1.5.0",
     "model_name": "FloatProgressModel",
     "state": {
      "_dom_classes": [],
      "_model_module": "@jupyter-widgets/controls",
      "_model_module_version": "1.5.0",
      "_model_name": "FloatProgressModel",
      "_view_count": null,
      "_view_module": "@jupyter-widgets/controls",
      "_view_module_version": "1.5.0",
      "_view_name": "ProgressView",
      "bar_style": "success",
      "description": "",
      "description_tooltip": null,
      "layout": "IPY_MODEL_6f1054b33e9d4f2a974b606c7f965cf4",
      "max": 517,
      "min": 0,
      "orientation": "horizontal",
      "style": "IPY_MODEL_a0203cbeb16546dd937b4e49184ebdc4",
      "value": 517
     }
    },
    "0fab0b62a7ec4538874870e2412a00a8": {
     "model_module": "@jupyter-widgets/controls",
     "model_module_version": "1.5.0",
     "model_name": "FloatProgressModel",
     "state": {
      "_dom_classes": [],
      "_model_module": "@jupyter-widgets/controls",
      "_model_module_version": "1.5.0",
      "_model_name": "FloatProgressModel",
      "_view_count": null,
      "_view_module": "@jupyter-widgets/controls",
      "_view_module_version": "1.5.0",
      "_view_name": "ProgressView",
      "bar_style": "success",
      "description": "",
      "description_tooltip": null,
      "layout": "IPY_MODEL_2e8416343c7542edaab8f7059fc359e1",
      "max": 549869424,
      "min": 0,
      "orientation": "horizontal",
      "style": "IPY_MODEL_e4a0689779ff45f9b89d921e003bb160",
      "value": 549869424
     }
    },
    "1f58b2a1185e47dba612331e2c3d823b": {
     "model_module": "@jupyter-widgets/controls",
     "model_module_version": "1.5.0",
     "model_name": "HTMLModel",
     "state": {
      "_dom_classes": [],
      "_model_module": "@jupyter-widgets/controls",
      "_model_module_version": "1.5.0",
      "_model_name": "HTMLModel",
      "_view_count": null,
      "_view_module": "@jupyter-widgets/controls",
      "_view_module_version": "1.5.0",
      "_view_name": "HTMLView",
      "description": "",
      "description_tooltip": null,
      "layout": "IPY_MODEL_f6e2c9d7b8d14673b1dc98e8a32a5d32",
      "placeholder": "​",
      "style": "IPY_MODEL_958da007d28f4784a82f76ac039a7190",
      "value": "Downloading: 100%"
     }
    },
    "22e6bb23a8434cf687c0fa9b2b00fb32": {
     "model_module": "@jupyter-widgets/controls",
     "model_module_version": "1.5.0",
     "model_name": "FloatProgressModel",
     "state": {
      "_dom_classes": [],
      "_model_module": "@jupyter-widgets/controls",
      "_model_module_version": "1.5.0",
      "_model_name": "FloatProgressModel",
      "_view_count": null,
      "_view_module": "@jupyter-widgets/controls",
      "_view_module_version": "1.5.0",
      "_view_name": "ProgressView",
      "bar_style": "success",
      "description": "",
      "description_tooltip": null,
      "layout": "IPY_MODEL_9f493b2ddb574fc1ba7a0ea1136b730b",
      "max": 174,
      "min": 0,
      "orientation": "horizontal",
      "style": "IPY_MODEL_e14a58c27963441583a05b0a265b3d58",
      "value": 174
     }
    },
    "26d9a6401aae4ccba8ac9ee737009767": {
     "model_module": "@jupyter-widgets/controls",
     "model_module_version": "1.5.0",
     "model_name": "HTMLModel",
     "state": {
      "_dom_classes": [],
      "_model_module": "@jupyter-widgets/controls",
      "_model_module_version": "1.5.0",
      "_model_name": "HTMLModel",
      "_view_count": null,
      "_view_module": "@jupyter-widgets/controls",
      "_view_module_version": "1.5.0",
      "_view_name": "HTMLView",
      "description": "",
      "description_tooltip": null,
      "layout": "IPY_MODEL_b092497bb83e4839b32c7a96aea19815",
      "placeholder": "​",
      "style": "IPY_MODEL_3de60f2c5deb4b4a866194fd611ef7dc",
      "value": "Downloading: 100%"
     }
    },
    "272a349aab5242108b3a5c3e34a8ea70": {
     "model_module": "@jupyter-widgets/base",
     "model_module_version": "1.2.0",
     "model_name": "LayoutModel",
     "state": {
      "_model_module": "@jupyter-widgets/base",
      "_model_module_version": "1.2.0",
      "_model_name": "LayoutModel",
      "_view_count": null,
      "_view_module": "@jupyter-widgets/base",
      "_view_module_version": "1.2.0",
      "_view_name": "LayoutView",
      "align_content": null,
      "align_items": null,
      "align_self": null,
      "border": null,
      "bottom": null,
      "display": null,
      "flex": null,
      "flex_flow": null,
      "grid_area": null,
      "grid_auto_columns": null,
      "grid_auto_flow": null,
      "grid_auto_rows": null,
      "grid_column": null,
      "grid_gap": null,
      "grid_row": null,
      "grid_template_areas": null,
      "grid_template_columns": null,
      "grid_template_rows": null,
      "height": null,
      "justify_content": null,
      "justify_items": null,
      "left": null,
      "margin": null,
      "max_height": null,
      "max_width": null,
      "min_height": null,
      "min_width": null,
      "object_fit": null,
      "object_position": null,
      "order": null,
      "overflow": null,
      "overflow_x": null,
      "overflow_y": null,
      "padding": null,
      "right": null,
      "top": null,
      "visibility": null,
      "width": null
     }
    },
    "2e8416343c7542edaab8f7059fc359e1": {
     "model_module": "@jupyter-widgets/base",
     "model_module_version": "1.2.0",
     "model_name": "LayoutModel",
     "state": {
      "_model_module": "@jupyter-widgets/base",
      "_model_module_version": "1.2.0",
      "_model_name": "LayoutModel",
      "_view_count": null,
      "_view_module": "@jupyter-widgets/base",
      "_view_module_version": "1.2.0",
      "_view_name": "LayoutView",
      "align_content": null,
      "align_items": null,
      "align_self": null,
      "border": null,
      "bottom": null,
      "display": null,
      "flex": null,
      "flex_flow": null,
      "grid_area": null,
      "grid_auto_columns": null,
      "grid_auto_flow": null,
      "grid_auto_rows": null,
      "grid_column": null,
      "grid_gap": null,
      "grid_row": null,
      "grid_template_areas": null,
      "grid_template_columns": null,
      "grid_template_rows": null,
      "height": null,
      "justify_content": null,
      "justify_items": null,
      "left": null,
      "margin": null,
      "max_height": null,
      "max_width": null,
      "min_height": null,
      "min_width": null,
      "object_fit": null,
      "object_position": null,
      "order": null,
      "overflow": null,
      "overflow_x": null,
      "overflow_y": null,
      "padding": null,
      "right": null,
      "top": null,
      "visibility": null,
      "width": null
     }
    },
    "371e641c41b945a7a2ef09e9ad3feec8": {
     "model_module": "@jupyter-widgets/controls",
     "model_module_version": "1.5.0",
     "model_name": "HTMLModel",
     "state": {
      "_dom_classes": [],
      "_model_module": "@jupyter-widgets/controls",
      "_model_module_version": "1.5.0",
      "_model_name": "HTMLModel",
      "_view_count": null,
      "_view_module": "@jupyter-widgets/controls",
      "_view_module_version": "1.5.0",
      "_view_name": "HTMLView",
      "description": "",
      "description_tooltip": null,
      "layout": "IPY_MODEL_272a349aab5242108b3a5c3e34a8ea70",
      "placeholder": "​",
      "style": "IPY_MODEL_870a6b19b3344482a0cb3ee5e0ae743e",
      "value": "Downloading: 100%"
     }
    },
    "3846d51a91d54ae6893408432b5f60d8": {
     "model_module": "@jupyter-widgets/base",
     "model_module_version": "1.2.0",
     "model_name": "LayoutModel",
     "state": {
      "_model_module": "@jupyter-widgets/base",
      "_model_module_version": "1.2.0",
      "_model_name": "LayoutModel",
      "_view_count": null,
      "_view_module": "@jupyter-widgets/base",
      "_view_module_version": "1.2.0",
      "_view_name": "LayoutView",
      "align_content": null,
      "align_items": null,
      "align_self": null,
      "border": null,
      "bottom": null,
      "display": null,
      "flex": null,
      "flex_flow": null,
      "grid_area": null,
      "grid_auto_columns": null,
      "grid_auto_flow": null,
      "grid_auto_rows": null,
      "grid_column": null,
      "grid_gap": null,
      "grid_row": null,
      "grid_template_areas": null,
      "grid_template_columns": null,
      "grid_template_rows": null,
      "height": null,
      "justify_content": null,
      "justify_items": null,
      "left": null,
      "margin": null,
      "max_height": null,
      "max_width": null,
      "min_height": null,
      "min_width": null,
      "object_fit": null,
      "object_position": null,
      "order": null,
      "overflow": null,
      "overflow_x": null,
      "overflow_y": null,
      "padding": null,
      "right": null,
      "top": null,
      "visibility": null,
      "width": null
     }
    },
    "3ae92ae8d2cf4cca83b92c67d751aec7": {
     "model_module": "@jupyter-widgets/controls",
     "model_module_version": "1.5.0",
     "model_name": "FloatProgressModel",
     "state": {
      "_dom_classes": [],
      "_model_module": "@jupyter-widgets/controls",
      "_model_module_version": "1.5.0",
      "_model_name": "FloatProgressModel",
      "_view_count": null,
      "_view_module": "@jupyter-widgets/controls",
      "_view_module_version": "1.5.0",
      "_view_name": "ProgressView",
      "bar_style": "success",
      "description": "",
      "description_tooltip": null,
      "layout": "IPY_MODEL_43d2ec25261640f8a8ed3fed2823e114",
      "max": 236001,
      "min": 0,
      "orientation": "horizontal",
      "style": "IPY_MODEL_3fdaacaaeeeb43f5bec782f0104448e6",
      "value": 236001
     }
    },
    "3de60f2c5deb4b4a866194fd611ef7dc": {
     "model_module": "@jupyter-widgets/controls",
     "model_module_version": "1.5.0",
     "model_name": "DescriptionStyleModel",
     "state": {
      "_model_module": "@jupyter-widgets/controls",
      "_model_module_version": "1.5.0",
      "_model_name": "DescriptionStyleModel",
      "_view_count": null,
      "_view_module": "@jupyter-widgets/base",
      "_view_module_version": "1.2.0",
      "_view_name": "StyleView",
      "description_width": ""
     }
    },
    "3fdaacaaeeeb43f5bec782f0104448e6": {
     "model_module": "@jupyter-widgets/controls",
     "model_module_version": "1.5.0",
     "model_name": "ProgressStyleModel",
     "state": {
      "_model_module": "@jupyter-widgets/controls",
      "_model_module_version": "1.5.0",
      "_model_name": "ProgressStyleModel",
      "_view_count": null,
      "_view_module": "@jupyter-widgets/base",
      "_view_module_version": "1.2.0",
      "_view_name": "StyleView",
      "bar_color": null,
      "description_width": ""
     }
    },
    "43d2ec25261640f8a8ed3fed2823e114": {
     "model_module": "@jupyter-widgets/base",
     "model_module_version": "1.2.0",
     "model_name": "LayoutModel",
     "state": {
      "_model_module": "@jupyter-widgets/base",
      "_model_module_version": "1.2.0",
      "_model_name": "LayoutModel",
      "_view_count": null,
      "_view_module": "@jupyter-widgets/base",
      "_view_module_version": "1.2.0",
      "_view_name": "LayoutView",
      "align_content": null,
      "align_items": null,
      "align_self": null,
      "border": null,
      "bottom": null,
      "display": null,
      "flex": null,
      "flex_flow": null,
      "grid_area": null,
      "grid_auto_columns": null,
      "grid_auto_flow": null,
      "grid_auto_rows": null,
      "grid_column": null,
      "grid_gap": null,
      "grid_row": null,
      "grid_template_areas": null,
      "grid_template_columns": null,
      "grid_template_rows": null,
      "height": null,
      "justify_content": null,
      "justify_items": null,
      "left": null,
      "margin": null,
      "max_height": null,
      "max_width": null,
      "min_height": null,
      "min_width": null,
      "object_fit": null,
      "object_position": null,
      "order": null,
      "overflow": null,
      "overflow_x": null,
      "overflow_y": null,
      "padding": null,
      "right": null,
      "top": null,
      "visibility": null,
      "width": null
     }
    },
    "44007212545a41a6a56080180bb0b8f6": {
     "model_module": "@jupyter-widgets/base",
     "model_module_version": "1.2.0",
     "model_name": "LayoutModel",
     "state": {
      "_model_module": "@jupyter-widgets/base",
      "_model_module_version": "1.2.0",
      "_model_name": "LayoutModel",
      "_view_count": null,
      "_view_module": "@jupyter-widgets/base",
      "_view_module_version": "1.2.0",
      "_view_name": "LayoutView",
      "align_content": null,
      "align_items": null,
      "align_self": null,
      "border": null,
      "bottom": null,
      "display": null,
      "flex": null,
      "flex_flow": null,
      "grid_area": null,
      "grid_auto_columns": null,
      "grid_auto_flow": null,
      "grid_auto_rows": null,
      "grid_column": null,
      "grid_gap": null,
      "grid_row": null,
      "grid_template_areas": null,
      "grid_template_columns": null,
      "grid_template_rows": null,
      "height": null,
      "justify_content": null,
      "justify_items": null,
      "left": null,
      "margin": null,
      "max_height": null,
      "max_width": null,
      "min_height": null,
      "min_width": null,
      "object_fit": null,
      "object_position": null,
      "order": null,
      "overflow": null,
      "overflow_x": null,
      "overflow_y": null,
      "padding": null,
      "right": null,
      "top": null,
      "visibility": null,
      "width": null
     }
    },
    "4b3e2288683c4efd820d85428570af68": {
     "model_module": "@jupyter-widgets/controls",
     "model_module_version": "1.5.0",
     "model_name": "HBoxModel",
     "state": {
      "_dom_classes": [],
      "_model_module": "@jupyter-widgets/controls",
      "_model_module_version": "1.5.0",
      "_model_name": "HBoxModel",
      "_view_count": null,
      "_view_module": "@jupyter-widgets/controls",
      "_view_module_version": "1.5.0",
      "_view_name": "HBoxView",
      "box_style": "",
      "children": [
       "IPY_MODEL_1f58b2a1185e47dba612331e2c3d823b",
       "IPY_MODEL_0fab0b62a7ec4538874870e2412a00a8",
       "IPY_MODEL_a2141cecdb42443ca46eb62d584d128c"
      ],
      "layout": "IPY_MODEL_de7184cceb664c218895dc900752dc2c"
     }
    },
    "4d60deb5b28d4605bdc62dbe59edf5f9": {
     "model_module": "@jupyter-widgets/controls",
     "model_module_version": "1.5.0",
     "model_name": "HTMLModel",
     "state": {
      "_dom_classes": [],
      "_model_module": "@jupyter-widgets/controls",
      "_model_module_version": "1.5.0",
      "_model_name": "HTMLModel",
      "_view_count": null,
      "_view_module": "@jupyter-widgets/controls",
      "_view_module_version": "1.5.0",
      "_view_name": "HTMLView",
      "description": "",
      "description_tooltip": null,
      "layout": "IPY_MODEL_cc94f3cf3f2b4c298ff0096cdf13aa45",
      "placeholder": "​",
      "style": "IPY_MODEL_ecba00855ad741379e91f4643a6efe91",
      "value": " 517/517 [00:00&lt;00:00, 12.7kB/s]"
     }
    },
    "52ab3db6f46b426196957d0d7376b8ff": {
     "model_module": "@jupyter-widgets/controls",
     "model_module_version": "1.5.0",
     "model_name": "HTMLModel",
     "state": {
      "_dom_classes": [],
      "_model_module": "@jupyter-widgets/controls",
      "_model_module_version": "1.5.0",
      "_model_name": "HTMLModel",
      "_view_count": null,
      "_view_module": "@jupyter-widgets/controls",
      "_view_module_version": "1.5.0",
      "_view_name": "HTMLView",
      "description": "",
      "description_tooltip": null,
      "layout": "IPY_MODEL_8252c8ab01c64820a10e8d6eb6e94565",
      "placeholder": "​",
      "style": "IPY_MODEL_ef3cd323919846d286fe522b53dc66a5",
      "value": "Downloading: 100%"
     }
    },
    "54b7478bc7d549d4bb2af8bfb77403d3": {
     "model_module": "@jupyter-widgets/base",
     "model_module_version": "1.2.0",
     "model_name": "LayoutModel",
     "state": {
      "_model_module": "@jupyter-widgets/base",
      "_model_module_version": "1.2.0",
      "_model_name": "LayoutModel",
      "_view_count": null,
      "_view_module": "@jupyter-widgets/base",
      "_view_module_version": "1.2.0",
      "_view_name": "LayoutView",
      "align_content": null,
      "align_items": null,
      "align_self": null,
      "border": null,
      "bottom": null,
      "display": null,
      "flex": null,
      "flex_flow": null,
      "grid_area": null,
      "grid_auto_columns": null,
      "grid_auto_flow": null,
      "grid_auto_rows": null,
      "grid_column": null,
      "grid_gap": null,
      "grid_row": null,
      "grid_template_areas": null,
      "grid_template_columns": null,
      "grid_template_rows": null,
      "height": null,
      "justify_content": null,
      "justify_items": null,
      "left": null,
      "margin": null,
      "max_height": null,
      "max_width": null,
      "min_height": null,
      "min_width": null,
      "object_fit": null,
      "object_position": null,
      "order": null,
      "overflow": null,
      "overflow_x": null,
      "overflow_y": null,
      "padding": null,
      "right": null,
      "top": null,
      "visibility": null,
      "width": null
     }
    },
    "6f1054b33e9d4f2a974b606c7f965cf4": {
     "model_module": "@jupyter-widgets/base",
     "model_module_version": "1.2.0",
     "model_name": "LayoutModel",
     "state": {
      "_model_module": "@jupyter-widgets/base",
      "_model_module_version": "1.2.0",
      "_model_name": "LayoutModel",
      "_view_count": null,
      "_view_module": "@jupyter-widgets/base",
      "_view_module_version": "1.2.0",
      "_view_name": "LayoutView",
      "align_content": null,
      "align_items": null,
      "align_self": null,
      "border": null,
      "bottom": null,
      "display": null,
      "flex": null,
      "flex_flow": null,
      "grid_area": null,
      "grid_auto_columns": null,
      "grid_auto_flow": null,
      "grid_auto_rows": null,
      "grid_column": null,
      "grid_gap": null,
      "grid_row": null,
      "grid_template_areas": null,
      "grid_template_columns": null,
      "grid_template_rows": null,
      "height": null,
      "justify_content": null,
      "justify_items": null,
      "left": null,
      "margin": null,
      "max_height": null,
      "max_width": null,
      "min_height": null,
      "min_width": null,
      "object_fit": null,
      "object_position": null,
      "order": null,
      "overflow": null,
      "overflow_x": null,
      "overflow_y": null,
      "padding": null,
      "right": null,
      "top": null,
      "visibility": null,
      "width": null
     }
    },
    "72b10543df88405089ec6567ae177479": {
     "model_module": "@jupyter-widgets/controls",
     "model_module_version": "1.5.0",
     "model_name": "DescriptionStyleModel",
     "state": {
      "_model_module": "@jupyter-widgets/controls",
      "_model_module_version": "1.5.0",
      "_model_name": "DescriptionStyleModel",
      "_view_count": null,
      "_view_module": "@jupyter-widgets/base",
      "_view_module_version": "1.2.0",
      "_view_name": "StyleView",
      "description_width": ""
     }
    },
    "782bb069f26b4964b59ea8c9614bf541": {
     "model_module": "@jupyter-widgets/controls",
     "model_module_version": "1.5.0",
     "model_name": "HTMLModel",
     "state": {
      "_dom_classes": [],
      "_model_module": "@jupyter-widgets/controls",
      "_model_module_version": "1.5.0",
      "_model_name": "HTMLModel",
      "_view_count": null,
      "_view_module": "@jupyter-widgets/controls",
      "_view_module_version": "1.5.0",
      "_view_name": "HTMLView",
      "description": "",
      "description_tooltip": null,
      "layout": "IPY_MODEL_44007212545a41a6a56080180bb0b8f6",
      "placeholder": "​",
      "style": "IPY_MODEL_72b10543df88405089ec6567ae177479",
      "value": " 174/174 [00:00&lt;00:00, 5.08kB/s]"
     }
    },
    "8252c8ab01c64820a10e8d6eb6e94565": {
     "model_module": "@jupyter-widgets/base",
     "model_module_version": "1.2.0",
     "model_name": "LayoutModel",
     "state": {
      "_model_module": "@jupyter-widgets/base",
      "_model_module_version": "1.2.0",
      "_model_name": "LayoutModel",
      "_view_count": null,
      "_view_module": "@jupyter-widgets/base",
      "_view_module_version": "1.2.0",
      "_view_name": "LayoutView",
      "align_content": null,
      "align_items": null,
      "align_self": null,
      "border": null,
      "bottom": null,
      "display": null,
      "flex": null,
      "flex_flow": null,
      "grid_area": null,
      "grid_auto_columns": null,
      "grid_auto_flow": null,
      "grid_auto_rows": null,
      "grid_column": null,
      "grid_gap": null,
      "grid_row": null,
      "grid_template_areas": null,
      "grid_template_columns": null,
      "grid_template_rows": null,
      "height": null,
      "justify_content": null,
      "justify_items": null,
      "left": null,
      "margin": null,
      "max_height": null,
      "max_width": null,
      "min_height": null,
      "min_width": null,
      "object_fit": null,
      "object_position": null,
      "order": null,
      "overflow": null,
      "overflow_x": null,
      "overflow_y": null,
      "padding": null,
      "right": null,
      "top": null,
      "visibility": null,
      "width": null
     }
    },
    "8400b079601e43c588bdf4b61dd4a17f": {
     "model_module": "@jupyter-widgets/controls",
     "model_module_version": "1.5.0",
     "model_name": "HBoxModel",
     "state": {
      "_dom_classes": [],
      "_model_module": "@jupyter-widgets/controls",
      "_model_module_version": "1.5.0",
      "_model_name": "HBoxModel",
      "_view_count": null,
      "_view_module": "@jupyter-widgets/controls",
      "_view_module_version": "1.5.0",
      "_view_name": "HBoxView",
      "box_style": "",
      "children": [
       "IPY_MODEL_26d9a6401aae4ccba8ac9ee737009767",
       "IPY_MODEL_007973c75d6b4ed187864608e263036b",
       "IPY_MODEL_4d60deb5b28d4605bdc62dbe59edf5f9"
      ],
      "layout": "IPY_MODEL_54b7478bc7d549d4bb2af8bfb77403d3"
     }
    },
    "870a6b19b3344482a0cb3ee5e0ae743e": {
     "model_module": "@jupyter-widgets/controls",
     "model_module_version": "1.5.0",
     "model_name": "DescriptionStyleModel",
     "state": {
      "_model_module": "@jupyter-widgets/controls",
      "_model_module_version": "1.5.0",
      "_model_name": "DescriptionStyleModel",
      "_view_count": null,
      "_view_module": "@jupyter-widgets/base",
      "_view_module_version": "1.2.0",
      "_view_name": "StyleView",
      "description_width": ""
     }
    },
    "950a269689214ba88973d80f8a71d2b7": {
     "model_module": "@jupyter-widgets/base",
     "model_module_version": "1.2.0",
     "model_name": "LayoutModel",
     "state": {
      "_model_module": "@jupyter-widgets/base",
      "_model_module_version": "1.2.0",
      "_model_name": "LayoutModel",
      "_view_count": null,
      "_view_module": "@jupyter-widgets/base",
      "_view_module_version": "1.2.0",
      "_view_name": "LayoutView",
      "align_content": null,
      "align_items": null,
      "align_self": null,
      "border": null,
      "bottom": null,
      "display": null,
      "flex": null,
      "flex_flow": null,
      "grid_area": null,
      "grid_auto_columns": null,
      "grid_auto_flow": null,
      "grid_auto_rows": null,
      "grid_column": null,
      "grid_gap": null,
      "grid_row": null,
      "grid_template_areas": null,
      "grid_template_columns": null,
      "grid_template_rows": null,
      "height": null,
      "justify_content": null,
      "justify_items": null,
      "left": null,
      "margin": null,
      "max_height": null,
      "max_width": null,
      "min_height": null,
      "min_width": null,
      "object_fit": null,
      "object_position": null,
      "order": null,
      "overflow": null,
      "overflow_x": null,
      "overflow_y": null,
      "padding": null,
      "right": null,
      "top": null,
      "visibility": null,
      "width": null
     }
    },
    "958da007d28f4784a82f76ac039a7190": {
     "model_module": "@jupyter-widgets/controls",
     "model_module_version": "1.5.0",
     "model_name": "DescriptionStyleModel",
     "state": {
      "_model_module": "@jupyter-widgets/controls",
      "_model_module_version": "1.5.0",
      "_model_name": "DescriptionStyleModel",
      "_view_count": null,
      "_view_module": "@jupyter-widgets/base",
      "_view_module_version": "1.2.0",
      "_view_name": "StyleView",
      "description_width": ""
     }
    },
    "9f493b2ddb574fc1ba7a0ea1136b730b": {
     "model_module": "@jupyter-widgets/base",
     "model_module_version": "1.2.0",
     "model_name": "LayoutModel",
     "state": {
      "_model_module": "@jupyter-widgets/base",
      "_model_module_version": "1.2.0",
      "_model_name": "LayoutModel",
      "_view_count": null,
      "_view_module": "@jupyter-widgets/base",
      "_view_module_version": "1.2.0",
      "_view_name": "LayoutView",
      "align_content": null,
      "align_items": null,
      "align_self": null,
      "border": null,
      "bottom": null,
      "display": null,
      "flex": null,
      "flex_flow": null,
      "grid_area": null,
      "grid_auto_columns": null,
      "grid_auto_flow": null,
      "grid_auto_rows": null,
      "grid_column": null,
      "grid_gap": null,
      "grid_row": null,
      "grid_template_areas": null,
      "grid_template_columns": null,
      "grid_template_rows": null,
      "height": null,
      "justify_content": null,
      "justify_items": null,
      "left": null,
      "margin": null,
      "max_height": null,
      "max_width": null,
      "min_height": null,
      "min_width": null,
      "object_fit": null,
      "object_position": null,
      "order": null,
      "overflow": null,
      "overflow_x": null,
      "overflow_y": null,
      "padding": null,
      "right": null,
      "top": null,
      "visibility": null,
      "width": null
     }
    },
    "a0203cbeb16546dd937b4e49184ebdc4": {
     "model_module": "@jupyter-widgets/controls",
     "model_module_version": "1.5.0",
     "model_name": "ProgressStyleModel",
     "state": {
      "_model_module": "@jupyter-widgets/controls",
      "_model_module_version": "1.5.0",
      "_model_name": "ProgressStyleModel",
      "_view_count": null,
      "_view_module": "@jupyter-widgets/base",
      "_view_module_version": "1.2.0",
      "_view_name": "StyleView",
      "bar_color": null,
      "description_width": ""
     }
    },
    "a2141cecdb42443ca46eb62d584d128c": {
     "model_module": "@jupyter-widgets/controls",
     "model_module_version": "1.5.0",
     "model_name": "HTMLModel",
     "state": {
      "_dom_classes": [],
      "_model_module": "@jupyter-widgets/controls",
      "_model_module_version": "1.5.0",
      "_model_name": "HTMLModel",
      "_view_count": null,
      "_view_module": "@jupyter-widgets/controls",
      "_view_module_version": "1.5.0",
      "_view_name": "HTMLView",
      "description": "",
      "description_tooltip": null,
      "layout": "IPY_MODEL_dd2c364a6c9a415f94a3084688e7831c",
      "placeholder": "​",
      "style": "IPY_MODEL_bc4203bd7fc84ea99b44bdb0a720681b",
      "value": " 550M/550M [00:14&lt;00:00, 43.2MB/s]"
     }
    },
    "b092497bb83e4839b32c7a96aea19815": {
     "model_module": "@jupyter-widgets/base",
     "model_module_version": "1.2.0",
     "model_name": "LayoutModel",
     "state": {
      "_model_module": "@jupyter-widgets/base",
      "_model_module_version": "1.2.0",
      "_model_name": "LayoutModel",
      "_view_count": null,
      "_view_module": "@jupyter-widgets/base",
      "_view_module_version": "1.2.0",
      "_view_name": "LayoutView",
      "align_content": null,
      "align_items": null,
      "align_self": null,
      "border": null,
      "bottom": null,
      "display": null,
      "flex": null,
      "flex_flow": null,
      "grid_area": null,
      "grid_auto_columns": null,
      "grid_auto_flow": null,
      "grid_auto_rows": null,
      "grid_column": null,
      "grid_gap": null,
      "grid_row": null,
      "grid_template_areas": null,
      "grid_template_columns": null,
      "grid_template_rows": null,
      "height": null,
      "justify_content": null,
      "justify_items": null,
      "left": null,
      "margin": null,
      "max_height": null,
      "max_width": null,
      "min_height": null,
      "min_width": null,
      "object_fit": null,
      "object_position": null,
      "order": null,
      "overflow": null,
      "overflow_x": null,
      "overflow_y": null,
      "padding": null,
      "right": null,
      "top": null,
      "visibility": null,
      "width": null
     }
    },
    "bc4203bd7fc84ea99b44bdb0a720681b": {
     "model_module": "@jupyter-widgets/controls",
     "model_module_version": "1.5.0",
     "model_name": "DescriptionStyleModel",
     "state": {
      "_model_module": "@jupyter-widgets/controls",
      "_model_module_version": "1.5.0",
      "_model_name": "DescriptionStyleModel",
      "_view_count": null,
      "_view_module": "@jupyter-widgets/base",
      "_view_module_version": "1.2.0",
      "_view_name": "StyleView",
      "description_width": ""
     }
    },
    "cc94f3cf3f2b4c298ff0096cdf13aa45": {
     "model_module": "@jupyter-widgets/base",
     "model_module_version": "1.2.0",
     "model_name": "LayoutModel",
     "state": {
      "_model_module": "@jupyter-widgets/base",
      "_model_module_version": "1.2.0",
      "_model_name": "LayoutModel",
      "_view_count": null,
      "_view_module": "@jupyter-widgets/base",
      "_view_module_version": "1.2.0",
      "_view_name": "LayoutView",
      "align_content": null,
      "align_items": null,
      "align_self": null,
      "border": null,
      "bottom": null,
      "display": null,
      "flex": null,
      "flex_flow": null,
      "grid_area": null,
      "grid_auto_columns": null,
      "grid_auto_flow": null,
      "grid_auto_rows": null,
      "grid_column": null,
      "grid_gap": null,
      "grid_row": null,
      "grid_template_areas": null,
      "grid_template_columns": null,
      "grid_template_rows": null,
      "height": null,
      "justify_content": null,
      "justify_items": null,
      "left": null,
      "margin": null,
      "max_height": null,
      "max_width": null,
      "min_height": null,
      "min_width": null,
      "object_fit": null,
      "object_position": null,
      "order": null,
      "overflow": null,
      "overflow_x": null,
      "overflow_y": null,
      "padding": null,
      "right": null,
      "top": null,
      "visibility": null,
      "width": null
     }
    },
    "daacccb408ab40d08af8af2fd508f55a": {
     "model_module": "@jupyter-widgets/base",
     "model_module_version": "1.2.0",
     "model_name": "LayoutModel",
     "state": {
      "_model_module": "@jupyter-widgets/base",
      "_model_module_version": "1.2.0",
      "_model_name": "LayoutModel",
      "_view_count": null,
      "_view_module": "@jupyter-widgets/base",
      "_view_module_version": "1.2.0",
      "_view_name": "LayoutView",
      "align_content": null,
      "align_items": null,
      "align_self": null,
      "border": null,
      "bottom": null,
      "display": null,
      "flex": null,
      "flex_flow": null,
      "grid_area": null,
      "grid_auto_columns": null,
      "grid_auto_flow": null,
      "grid_auto_rows": null,
      "grid_column": null,
      "grid_gap": null,
      "grid_row": null,
      "grid_template_areas": null,
      "grid_template_columns": null,
      "grid_template_rows": null,
      "height": null,
      "justify_content": null,
      "justify_items": null,
      "left": null,
      "margin": null,
      "max_height": null,
      "max_width": null,
      "min_height": null,
      "min_width": null,
      "object_fit": null,
      "object_position": null,
      "order": null,
      "overflow": null,
      "overflow_x": null,
      "overflow_y": null,
      "padding": null,
      "right": null,
      "top": null,
      "visibility": null,
      "width": null
     }
    },
    "db782a3b102f4b1d8f9e297305b27899": {
     "model_module": "@jupyter-widgets/controls",
     "model_module_version": "1.5.0",
     "model_name": "HBoxModel",
     "state": {
      "_dom_classes": [],
      "_model_module": "@jupyter-widgets/controls",
      "_model_module_version": "1.5.0",
      "_model_name": "HBoxModel",
      "_view_count": null,
      "_view_module": "@jupyter-widgets/controls",
      "_view_module_version": "1.5.0",
      "_view_name": "HBoxView",
      "box_style": "",
      "children": [
       "IPY_MODEL_52ab3db6f46b426196957d0d7376b8ff",
       "IPY_MODEL_3ae92ae8d2cf4cca83b92c67d751aec7",
       "IPY_MODEL_005ac32e87d443869142e460dd10de08"
      ],
      "layout": "IPY_MODEL_daacccb408ab40d08af8af2fd508f55a"
     }
    },
    "dd2c364a6c9a415f94a3084688e7831c": {
     "model_module": "@jupyter-widgets/base",
     "model_module_version": "1.2.0",
     "model_name": "LayoutModel",
     "state": {
      "_model_module": "@jupyter-widgets/base",
      "_model_module_version": "1.2.0",
      "_model_name": "LayoutModel",
      "_view_count": null,
      "_view_module": "@jupyter-widgets/base",
      "_view_module_version": "1.2.0",
      "_view_name": "LayoutView",
      "align_content": null,
      "align_items": null,
      "align_self": null,
      "border": null,
      "bottom": null,
      "display": null,
      "flex": null,
      "flex_flow": null,
      "grid_area": null,
      "grid_auto_columns": null,
      "grid_auto_flow": null,
      "grid_auto_rows": null,
      "grid_column": null,
      "grid_gap": null,
      "grid_row": null,
      "grid_template_areas": null,
      "grid_template_columns": null,
      "grid_template_rows": null,
      "height": null,
      "justify_content": null,
      "justify_items": null,
      "left": null,
      "margin": null,
      "max_height": null,
      "max_width": null,
      "min_height": null,
      "min_width": null,
      "object_fit": null,
      "object_position": null,
      "order": null,
      "overflow": null,
      "overflow_x": null,
      "overflow_y": null,
      "padding": null,
      "right": null,
      "top": null,
      "visibility": null,
      "width": null
     }
    },
    "de7184cceb664c218895dc900752dc2c": {
     "model_module": "@jupyter-widgets/base",
     "model_module_version": "1.2.0",
     "model_name": "LayoutModel",
     "state": {
      "_model_module": "@jupyter-widgets/base",
      "_model_module_version": "1.2.0",
      "_model_name": "LayoutModel",
      "_view_count": null,
      "_view_module": "@jupyter-widgets/base",
      "_view_module_version": "1.2.0",
      "_view_name": "LayoutView",
      "align_content": null,
      "align_items": null,
      "align_self": null,
      "border": null,
      "bottom": null,
      "display": null,
      "flex": null,
      "flex_flow": null,
      "grid_area": null,
      "grid_auto_columns": null,
      "grid_auto_flow": null,
      "grid_auto_rows": null,
      "grid_column": null,
      "grid_gap": null,
      "grid_row": null,
      "grid_template_areas": null,
      "grid_template_columns": null,
      "grid_template_rows": null,
      "height": null,
      "justify_content": null,
      "justify_items": null,
      "left": null,
      "margin": null,
      "max_height": null,
      "max_width": null,
      "min_height": null,
      "min_width": null,
      "object_fit": null,
      "object_position": null,
      "order": null,
      "overflow": null,
      "overflow_x": null,
      "overflow_y": null,
      "padding": null,
      "right": null,
      "top": null,
      "visibility": null,
      "width": null
     }
    },
    "e14a58c27963441583a05b0a265b3d58": {
     "model_module": "@jupyter-widgets/controls",
     "model_module_version": "1.5.0",
     "model_name": "ProgressStyleModel",
     "state": {
      "_model_module": "@jupyter-widgets/controls",
      "_model_module_version": "1.5.0",
      "_model_name": "ProgressStyleModel",
      "_view_count": null,
      "_view_module": "@jupyter-widgets/base",
      "_view_module_version": "1.2.0",
      "_view_name": "StyleView",
      "bar_color": null,
      "description_width": ""
     }
    },
    "e4a0689779ff45f9b89d921e003bb160": {
     "model_module": "@jupyter-widgets/controls",
     "model_module_version": "1.5.0",
     "model_name": "ProgressStyleModel",
     "state": {
      "_model_module": "@jupyter-widgets/controls",
      "_model_module_version": "1.5.0",
      "_model_name": "ProgressStyleModel",
      "_view_count": null,
      "_view_module": "@jupyter-widgets/base",
      "_view_module_version": "1.2.0",
      "_view_name": "StyleView",
      "bar_color": null,
      "description_width": ""
     }
    },
    "ecba00855ad741379e91f4643a6efe91": {
     "model_module": "@jupyter-widgets/controls",
     "model_module_version": "1.5.0",
     "model_name": "DescriptionStyleModel",
     "state": {
      "_model_module": "@jupyter-widgets/controls",
      "_model_module_version": "1.5.0",
      "_model_name": "DescriptionStyleModel",
      "_view_count": null,
      "_view_module": "@jupyter-widgets/base",
      "_view_module_version": "1.2.0",
      "_view_name": "StyleView",
      "description_width": ""
     }
    },
    "ef3cd323919846d286fe522b53dc66a5": {
     "model_module": "@jupyter-widgets/controls",
     "model_module_version": "1.5.0",
     "model_name": "DescriptionStyleModel",
     "state": {
      "_model_module": "@jupyter-widgets/controls",
      "_model_module_version": "1.5.0",
      "_model_name": "DescriptionStyleModel",
      "_view_count": null,
      "_view_module": "@jupyter-widgets/base",
      "_view_module_version": "1.2.0",
      "_view_name": "StyleView",
      "description_width": ""
     }
    },
    "f198444baa264ffe9e054cc3bef81728": {
     "model_module": "@jupyter-widgets/controls",
     "model_module_version": "1.5.0",
     "model_name": "HBoxModel",
     "state": {
      "_dom_classes": [],
      "_model_module": "@jupyter-widgets/controls",
      "_model_module_version": "1.5.0",
      "_model_name": "HBoxModel",
      "_view_count": null,
      "_view_module": "@jupyter-widgets/controls",
      "_view_module_version": "1.5.0",
      "_view_name": "HBoxView",
      "box_style": "",
      "children": [
       "IPY_MODEL_371e641c41b945a7a2ef09e9ad3feec8",
       "IPY_MODEL_22e6bb23a8434cf687c0fa9b2b00fb32",
       "IPY_MODEL_782bb069f26b4964b59ea8c9614bf541"
      ],
      "layout": "IPY_MODEL_3846d51a91d54ae6893408432b5f60d8"
     }
    },
    "f6e2c9d7b8d14673b1dc98e8a32a5d32": {
     "model_module": "@jupyter-widgets/base",
     "model_module_version": "1.2.0",
     "model_name": "LayoutModel",
     "state": {
      "_model_module": "@jupyter-widgets/base",
      "_model_module_version": "1.2.0",
      "_model_name": "LayoutModel",
      "_view_count": null,
      "_view_module": "@jupyter-widgets/base",
      "_view_module_version": "1.2.0",
      "_view_name": "LayoutView",
      "align_content": null,
      "align_items": null,
      "align_self": null,
      "border": null,
      "bottom": null,
      "display": null,
      "flex": null,
      "flex_flow": null,
      "grid_area": null,
      "grid_auto_columns": null,
      "grid_auto_flow": null,
      "grid_auto_rows": null,
      "grid_column": null,
      "grid_gap": null,
      "grid_row": null,
      "grid_template_areas": null,
      "grid_template_columns": null,
      "grid_template_rows": null,
      "height": null,
      "justify_content": null,
      "justify_items": null,
      "left": null,
      "margin": null,
      "max_height": null,
      "max_width": null,
      "min_height": null,
      "min_width": null,
      "object_fit": null,
      "object_position": null,
      "order": null,
      "overflow": null,
      "overflow_x": null,
      "overflow_y": null,
      "padding": null,
      "right": null,
      "top": null,
      "visibility": null,
      "width": null
     }
    },
    "fa0b85249f4946c88fb7bba81a2e8aaf": {
     "model_module": "@jupyter-widgets/controls",
     "model_module_version": "1.5.0",
     "model_name": "DescriptionStyleModel",
     "state": {
      "_model_module": "@jupyter-widgets/controls",
      "_model_module_version": "1.5.0",
      "_model_name": "DescriptionStyleModel",
      "_view_count": null,
      "_view_module": "@jupyter-widgets/base",
      "_view_module_version": "1.2.0",
      "_view_name": "StyleView",
      "description_width": ""
     }
    }
   }
  }
 },
 "nbformat": 4,
 "nbformat_minor": 1
}
