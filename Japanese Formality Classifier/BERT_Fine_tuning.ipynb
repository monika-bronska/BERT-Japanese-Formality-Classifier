{
 "cells": [
  {
   "cell_type": "markdown",
   "metadata": {
    "id": "T-NMiK1mn1ex"
   },
   "source": [
    "## Prepare the environment and load the necessary libraries"
   ]
  },
  {
   "cell_type": "code",
   "execution_count": null,
   "metadata": {
    "colab": {
     "base_uri": "https://localhost:8080/"
    },
    "id": "De6qW0GivrMV",
    "outputId": "de52656c-7529-4480-d064-ddceceb13a2e"
   },
   "outputs": [
    {
     "name": "stdout",
     "output_type": "stream",
     "text": [
      "Mounted at /content/drive\n"
     ]
    }
   ],
   "source": [
    "# mount the drive for loading and storing files\n",
    "from google.colab import drive\n",
    "drive.mount('/content/drive')"
   ]
  },
  {
   "cell_type": "code",
   "execution_count": null,
   "metadata": {
    "colab": {
     "base_uri": "https://localhost:8080/"
    },
    "id": "J3LyZIhg2RQS",
    "outputId": "a56fb0e9-895c-4284-e1b1-b63b652ddaf8"
   },
   "outputs": [
    {
     "name": "stdout",
     "output_type": "stream",
     "text": [
      "Found GPU at: /device:GPU:0\n"
     ]
    }
   ],
   "source": [
    "# set up GPU from Colab\n",
    "import tensorflow as tf\n",
    "\n",
    "# Get the GPU device name.\n",
    "device_name = tf.test.gpu_device_name()\n",
    "\n",
    "# The device name should look like the following:\n",
    "if device_name == '/device:GPU:0':\n",
    "    print('Found GPU at: {}'.format(device_name))\n",
    "else:\n",
    "    raise SystemError('GPU device not found')"
   ]
  },
  {
   "cell_type": "code",
   "execution_count": null,
   "metadata": {
    "colab": {
     "base_uri": "https://localhost:8080/"
    },
    "id": "DBMEFeD3tp-r",
    "outputId": "fcfc63b4-c710-499b-aa29-18fa72621291"
   },
   "outputs": [
    {
     "name": "stdout",
     "output_type": "stream",
     "text": [
      "There are 1 GPU(s) available.\n",
      "We will use the GPU: Tesla T4\n"
     ]
    }
   ],
   "source": [
    "import torch\n",
    "\n",
    "# If there's a GPU available...\n",
    "if torch.cuda.is_available():    \n",
    "\n",
    "    # Tell PyTorch to use the GPU.    \n",
    "    device = torch.device(\"cuda\")\n",
    "\n",
    "    print('There are %d GPU(s) available.' % torch.cuda.device_count())\n",
    "\n",
    "    print('We will use the GPU:', torch.cuda.get_device_name(0))\n",
    "\n",
    "# If not...\n",
    "else:\n",
    "    print('No GPU available, using the CPU instead.')\n",
    "    device = torch.device(\"cpu\")"
   ]
  },
  {
   "cell_type": "code",
   "execution_count": null,
   "metadata": {
    "colab": {
     "base_uri": "https://localhost:8080/"
    },
    "id": "rKbjL4cNwdGS",
    "outputId": "501aa512-2d01-418c-9ffd-6b3ff2321fdd"
   },
   "outputs": [
    {
     "name": "stdout",
     "output_type": "stream",
     "text": [
      "\u001b[K     |████████████████████████████████| 421.8 MB 4.7 kB/s \n",
      "\u001b[K     |████████████████████████████████| 3.8 MB 52.6 MB/s \n",
      "\u001b[K     |████████████████████████████████| 448 kB 78.4 MB/s \n",
      "\u001b[K     |████████████████████████████████| 50 kB 8.3 MB/s \n",
      "\u001b[?25h  Building wheel for gast (setup.py) ... \u001b[?25l\u001b[?25hdone\n",
      "\u001b[31mERROR: pip's dependency resolver does not currently take into account all the packages that are installed. This behaviour is the source of the following dependency conflicts.\n",
      "tensorflow 2.8.0 requires tf-estimator-nightly==2.8.0.dev2021122109, which is not installed.\n",
      "tensorflow 2.8.0 requires tensorboard<2.9,>=2.8, but you have tensorboard 2.1.1 which is incompatible.\n",
      "tensorflow-probability 0.16.0 requires gast>=0.3.2, but you have gast 0.2.2 which is incompatible.\u001b[0m\n"
     ]
    }
   ],
   "source": [
    "!pip3 install -q tensorflow_gpu==2.1.0"
   ]
  },
  {
   "cell_type": "code",
   "execution_count": null,
   "metadata": {
    "colab": {
     "base_uri": "https://localhost:8080/"
    },
    "id": "8tb5yANi3hxx",
    "outputId": "649339f5-aa77-458b-aee0-c142be881707"
   },
   "outputs": [
    {
     "name": "stdout",
     "output_type": "stream",
     "text": [
      "2.8.0\n"
     ]
    }
   ],
   "source": [
    "import tensorflow as tf\n",
    "print(tf.__version__)"
   ]
  },
  {
   "cell_type": "code",
   "execution_count": null,
   "metadata": {
    "colab": {
     "base_uri": "https://localhost:8080/"
    },
    "id": "85JxlgR73kk6",
    "outputId": "d1e06ce9-64a0-4e68-bd4e-76876375901c"
   },
   "outputs": [
    {
     "name": "stdout",
     "output_type": "stream",
     "text": [
      "\u001b[K     |████████████████████████████████| 25.3 MB 566 kB/s \n",
      "\u001b[K     |████████████████████████████████| 22.3 MB 79.2 MB/s \n",
      "\u001b[K     |████████████████████████████████| 981 kB 76.6 MB/s \n",
      "\u001b[K     |████████████████████████████████| 263 kB 76.4 MB/s \n",
      "\u001b[K     |████████████████████████████████| 2.8 MB 57.2 MB/s \n",
      "\u001b[K     |████████████████████████████████| 1.2 MB 65.3 MB/s \n",
      "\u001b[K     |████████████████████████████████| 468 kB 65.1 MB/s \n",
      "\u001b[K     |████████████████████████████████| 3.3 MB 47.9 MB/s \n",
      "\u001b[K     |████████████████████████████████| 77 kB 8.3 MB/s \n",
      "\u001b[K     |████████████████████████████████| 596 kB 77.9 MB/s \n",
      "\u001b[K     |████████████████████████████████| 895 kB 74.0 MB/s \n",
      "\u001b[?25h  Building wheel for ktrain (setup.py) ... \u001b[?25l\u001b[?25hdone\n",
      "  Building wheel for keras-bert (setup.py) ... \u001b[?25l\u001b[?25hdone\n",
      "  Building wheel for keras-transformer (setup.py) ... \u001b[?25l\u001b[?25hdone\n",
      "  Building wheel for keras-embed-sim (setup.py) ... \u001b[?25l\u001b[?25hdone\n",
      "  Building wheel for keras-layer-normalization (setup.py) ... \u001b[?25l\u001b[?25hdone\n",
      "  Building wheel for keras-multi-head (setup.py) ... \u001b[?25l\u001b[?25hdone\n",
      "  Building wheel for keras-pos-embd (setup.py) ... \u001b[?25l\u001b[?25hdone\n",
      "  Building wheel for keras-position-wise-feed-forward (setup.py) ... \u001b[?25l\u001b[?25hdone\n",
      "  Building wheel for keras-self-attention (setup.py) ... \u001b[?25l\u001b[?25hdone\n",
      "  Building wheel for langdetect (setup.py) ... \u001b[?25l\u001b[?25hdone\n",
      "\u001b[31mERROR: pip's dependency resolver does not currently take into account all the packages that are installed. This behaviour is the source of the following dependency conflicts.\n",
      "yellowbrick 1.4 requires scikit-learn>=1.0.0, but you have scikit-learn 0.24.2 which is incompatible.\u001b[0m\n"
     ]
    }
   ],
   "source": [
    "!pip3 install -q ktrain"
   ]
  },
  {
   "cell_type": "markdown",
   "metadata": {
    "id": "07tXLKOrzpoP"
   },
   "source": [
    "## Load the dataset for fine-tuning the model"
   ]
  },
  {
   "cell_type": "code",
   "execution_count": null,
   "metadata": {
    "colab": {
     "base_uri": "https://localhost:8080/"
    },
    "id": "O2nX-naGzng3",
    "outputId": "e6963d59-2119-4ebb-86bc-d752a3fce3ff"
   },
   "outputs": [
    {
     "name": "stdout",
     "output_type": "stream",
     "text": [
      "    Unnamed: 0                   jp_sentence     label\n",
      "0      1533289            落ち着いて 私のアドバイスを忘れずに  informal\n",
      "1      1247871                  私 魔女にはなりたくない  informal\n",
      "2       950993     翌日の4時04分に 404ドルもの賞金を渡しました    polite\n",
      "3      1736253                  大丈夫ですよ。 行こう。    polite\n",
      "4      2185184                  5年もやってれば慣れます    polite\n",
      "5      1537257                     自分の電気ですから    polite\n",
      "6      1930911              お...おはよう...ございます    polite\n",
      "7      2402529                判ったよ 静かに、黙るんだ!  informal\n",
      "8      2144582        5つの強みを知るための有効なテストがあります    polite\n",
      "9      1823023      あの... シャワー浴びてる 女性がいますけど。    polite\n",
      "10     1537836                       20分前は3+  informal\n",
      "11     2050660                     トントン叩くのです    polite\n",
      "12     1450758            場所によっては 火星よりも寒いのです    polite\n",
      "13      293247          検事に話しといたわ なかった事にするって  informal\n",
      "14     2185524                    ごくかすかな音でした    polite\n",
      "15      447746                あなたにしか話していないのよ  informal\n",
      "16      752718             指示されてすることでは ない点です    polite\n",
      "17      414313                思いのままにセックスに使う。  informal\n",
      "18     2161875         橘 「沢の蛍」って言葉から 何かわかるか?  informal\n",
      "19      967744             独自の条件でなら 最高に満たせるが  informal\n",
      "20      368843                違うの... これはね マヤ  informal\n",
      "21     2388349           2つのシグナル検出 かつてない数値です    polite\n",
      "22     1619998    ベイリッシュ公が止めに入った時 彼女は彼を殴りました    polite\n",
      "23     2258474               この質問に答えたくないのでは?  informal\n",
      "24     2517780                うちの旅行代理店の受付です。    polite\n",
      "25     1095760                    daf-2変異体では  informal\n",
      "26      775363  緊急避難と車庫代わりに 本線のあちこちに作ってあるんです    polite\n",
      "27     1299997          生きることを余儀なくされたようなものです    polite\n",
      "28     2274227                      無二の親友がいて  informal\n",
      "29     2391590               ペルーの神聖な地に降りたちます    polite\n"
     ]
    }
   ],
   "source": [
    "# load training set\n",
    "import pandas as pd\n",
    "\n",
    "with open(\"/content/drive/MyDrive/Colab Notebooks/Model/JESC/tuning_train.csv\") as file:\n",
    "    train = pd.read_csv(file)\n",
    "\n",
    "print(train.head(30))"
   ]
  },
  {
   "cell_type": "code",
   "execution_count": null,
   "metadata": {
    "id": "URebeUlh1TQQ"
   },
   "outputs": [],
   "source": [
    "# # convert to format expected by ktrain\n",
    "x_train = train['jp_sentence'].tolist()\n",
    "y_train = train['label'].tolist()"
   ]
  },
  {
   "cell_type": "code",
   "execution_count": null,
   "metadata": {
    "colab": {
     "base_uri": "https://localhost:8080/"
    },
    "id": "viXjckgv1g3c",
    "outputId": "f1b6bd9f-3588-43a8-9437-025d14302ec2"
   },
   "outputs": [
    {
     "name": "stdout",
     "output_type": "stream",
     "text": [
      "   Unnamed: 0              jp_sentence     label\n",
      "0         405               地球にもたらされた。  informal\n",
      "1        1190               うるせーな 返せよッ  informal\n",
      "2        1132         わからないわ 私は心を読めないの  informal\n",
      "3         731  曲は完璧なんだよ。 作り直す必要なんかねえよ。  informal\n",
      "4        1754                座るつもりはない!  informal\n"
     ]
    }
   ],
   "source": [
    "# load validation set\n",
    "with open(\"/content/drive/MyDrive/Colab Notebooks/Model/JESC/validation.csv\") as file:\n",
    "    dev = pd.read_csv(file)\n",
    "\n",
    "print(dev.head())"
   ]
  },
  {
   "cell_type": "code",
   "execution_count": null,
   "metadata": {
    "id": "hm5iS0-a1qvS"
   },
   "outputs": [],
   "source": [
    "# convert to format expected by ktrain\n",
    "x_dev = dev['jp_sentence'].tolist()\n",
    "y_dev = dev['label'].tolist()"
   ]
  },
  {
   "cell_type": "markdown",
   "metadata": {
    "id": "xFBN27ZqoSpV"
   },
   "source": [
    "## Load the libraries required by Tohoku BERT version"
   ]
  },
  {
   "cell_type": "code",
   "execution_count": null,
   "metadata": {
    "colab": {
     "base_uri": "https://localhost:8080/"
    },
    "id": "BzExRuZT4Ip6",
    "outputId": "ecb04522-bda6-4ecb-f78c-2540f164420e"
   },
   "outputs": [
    {
     "name": "stdout",
     "output_type": "stream",
     "text": [
      "Collecting fugashi[unidic-lite]\n",
      "  Downloading fugashi-1.1.2-cp37-cp37m-manylinux_2_17_x86_64.manylinux2014_x86_64.whl (568 kB)\n",
      "\u001b[K     |████████████████████████████████| 568 kB 4.0 MB/s \n",
      "\u001b[?25hCollecting unidic-lite\n",
      "  Downloading unidic-lite-1.0.8.tar.gz (47.4 MB)\n",
      "\u001b[K     |████████████████████████████████| 47.4 MB 1.3 MB/s \n",
      "\u001b[?25hBuilding wheels for collected packages: unidic-lite\n",
      "  Building wheel for unidic-lite (setup.py) ... \u001b[?25l\u001b[?25hdone\n",
      "  Created wheel for unidic-lite: filename=unidic_lite-1.0.8-py3-none-any.whl size=47658836 sha256=d1cf20677d8c80d64e758f9b85915c6a89d4380cfc73b70dc4b16af647acec8b\n",
      "  Stored in directory: /root/.cache/pip/wheels/de/69/b1/112140b599f2b13f609d485a99e357ba68df194d2079c5b1a2\n",
      "Successfully built unidic-lite\n",
      "Installing collected packages: unidic-lite, fugashi\n",
      "Successfully installed fugashi-1.1.2 unidic-lite-1.0.8\n"
     ]
    }
   ],
   "source": [
    "pip install fugashi[unidic-lite]"
   ]
  },
  {
   "cell_type": "code",
   "execution_count": null,
   "metadata": {
    "colab": {
     "base_uri": "https://localhost:8080/"
    },
    "id": "tjn5Zko-4trO",
    "outputId": "d153f163-ff8d-43dd-fd4a-948daa42c15a"
   },
   "outputs": [
    {
     "name": "stdout",
     "output_type": "stream",
     "text": [
      "Collecting ipadic\n",
      "  Downloading ipadic-1.0.0.tar.gz (13.4 MB)\n",
      "\u001b[K     |████████████████████████████████| 13.4 MB 3.5 MB/s \n",
      "\u001b[?25hBuilding wheels for collected packages: ipadic\n",
      "  Building wheel for ipadic (setup.py) ... \u001b[?25l\u001b[?25hdone\n",
      "  Created wheel for ipadic: filename=ipadic-1.0.0-py3-none-any.whl size=13556723 sha256=096caade50785a19872a4a4990d794aca5698649671b0f0c6c3900c0ece8890a\n",
      "  Stored in directory: /root/.cache/pip/wheels/33/8b/99/cf0d27191876637cd3639a560f93aa982d7855ce826c94348b\n",
      "Successfully built ipadic\n",
      "Installing collected packages: ipadic\n",
      "Successfully installed ipadic-1.0.0\n"
     ]
    }
   ],
   "source": [
    "pip install ipadic"
   ]
  },
  {
   "cell_type": "code",
   "execution_count": null,
   "metadata": {
    "id": "cyubstjz5Bmn"
   },
   "outputs": [],
   "source": [
    "import ktrain\n",
    "from ktrain import text"
   ]
  },
  {
   "cell_type": "markdown",
   "metadata": {
    "id": "jGy9c1pvmn91"
   },
   "source": [
    "## Hyper-Parameter Tuning"
   ]
  },
  {
   "cell_type": "code",
   "execution_count": null,
   "metadata": {
    "colab": {
     "base_uri": "https://localhost:8080/",
     "height": 193
    },
    "id": "e6oZC7cC13rD",
    "outputId": "09c8a4b2-3f88-4877-9c4b-7960affc17b4"
   },
   "outputs": [
    {
     "name": "stderr",
     "output_type": "stream",
     "text": [
      "/usr/local/lib/python3.7/dist-packages/ktrain/text/preprocessor.py:422: UserWarning: The class_names argument is replacing the classes argument. Please update your code.\n",
      "  warnings.warn('The class_names argument is replacing the classes argument. Please update your code.')\n"
     ]
    },
    {
     "name": "stdout",
     "output_type": "stream",
     "text": [
      "preprocessing train...\n",
      "language: ja\n"
     ]
    },
    {
     "name": "stderr",
     "output_type": "stream",
     "text": [
      "/usr/local/lib/python3.7/dist-packages/ktrain/utils.py:625: UserWarning: class_names argument was ignored, as they were extracted from string labels in dataset\n",
      "  if self.get_classes(): warnings.warn('class_names argument was ignored, as they were extracted from string labels in dataset')\n"
     ]
    },
    {
     "data": {
      "text/html": [
       "\n",
       "<style>\n",
       "    /* Turns off some styling */\n",
       "    progress {\n",
       "        /* gets rid of default border in Firefox and Opera. */\n",
       "        border: none;\n",
       "        /* Needs to be in here for Safari polyfill so background images work as expected. */\n",
       "        background-size: auto;\n",
       "    }\n",
       "    .progress-bar-interrupted, .progress-bar-interrupted::-webkit-progress-bar {\n",
       "        background: #F44336;\n",
       "    }\n",
       "</style>\n"
      ],
      "text/plain": [
       "<IPython.core.display.HTML object>"
      ]
     },
     "metadata": {},
     "output_type": "display_data"
    },
    {
     "data": {
      "text/html": [],
      "text/plain": [
       "<IPython.core.display.HTML object>"
      ]
     },
     "metadata": {},
     "output_type": "display_data"
    },
    {
     "name": "stdout",
     "output_type": "stream",
     "text": [
      "Is Multi-Label? False\n",
      "preprocessing test...\n",
      "language: ja\n"
     ]
    },
    {
     "data": {
      "text/html": [
       "\n",
       "<style>\n",
       "    /* Turns off some styling */\n",
       "    progress {\n",
       "        /* gets rid of default border in Firefox and Opera. */\n",
       "        border: none;\n",
       "        /* Needs to be in here for Safari polyfill so background images work as expected. */\n",
       "        background-size: auto;\n",
       "    }\n",
       "    .progress-bar-interrupted, .progress-bar-interrupted::-webkit-progress-bar {\n",
       "        background: #F44336;\n",
       "    }\n",
       "</style>\n"
      ],
      "text/plain": [
       "<IPython.core.display.HTML object>"
      ]
     },
     "metadata": {},
     "output_type": "display_data"
    },
    {
     "data": {
      "text/html": [],
      "text/plain": [
       "<IPython.core.display.HTML object>"
      ]
     },
     "metadata": {},
     "output_type": "display_data"
    }
   ],
   "source": [
    "MODEL_NAME = 'cl-tohoku/bert-base-japanese-v2'\n",
    "t = text.Transformer(MODEL_NAME, maxlen=128, classes=['polite', 'informal'])\n",
    "trn = t.preprocess_train(x_train, y_train)\n",
    "val = t.preprocess_test(x_dev, y_dev)\n",
    "model = t.get_classifier()\n",
    "learner = ktrain.get_learner(model, train_data=trn, val_data=val, batch_size=6)"
   ]
  },
  {
   "cell_type": "markdown",
   "metadata": {
    "id": "M0tK4bdufGVD"
   },
   "source": [
    "**1. Estimate optimal learning rate**"
   ]
  },
  {
   "cell_type": "code",
   "execution_count": null,
   "metadata": {
    "colab": {
     "base_uri": "https://localhost:8080/",
     "height": 441
    },
    "id": "Bo9oIQoqfMae",
    "outputId": "701aa170-e69c-484e-e0e5-9a6c651361e3"
   },
   "outputs": [
    {
     "name": "stdout",
     "output_type": "stream",
     "text": [
      "simulating training for different learning rates... this may take a few moments...\n",
      "Epoch 1/2\n",
      "8333/8333 [==============================] - 1509s 178ms/step - loss: 0.3255 - accuracy: 0.8068\n",
      "Epoch 2/2\n",
      "8333/8333 [==============================] - 31s 4ms/step - loss: 0.8308 - accuracy: 0.5066\n",
      "\n",
      "\n",
      "done.\n",
      "Visually inspect loss plot and select learning rate associated with falling loss\n"
     ]
    },
    {
     "data": {
      "image/png": "[encoded data removed]",
      "text/plain": [
       "<Figure size 432x288 with 1 Axes>"
      ]
     },
     "metadata": {
      "needs_background": "light"
     },
     "output_type": "display_data"
    }
   ],
   "source": [
    "learner.lr_find(show_plot=True, max_epochs=2)"
   ]
  },
  {
   "cell_type": "markdown",
   "metadata": {
    "id": "kjE0Xd8Rm3TZ"
   },
   "source": [
    "**2. Test the performance of chosen learning rates and fitting methods**"
   ]
  },
  {
   "cell_type": "markdown",
   "metadata": {
    "id": "FlQpJhV8lFHj"
   },
   "source": [
    "**a) Fitting the model with static learning rate of 0.0005 with 2 epochs**"
   ]
  },
  {
   "cell_type": "code",
   "execution_count": null,
   "metadata": {
    "colab": {
     "base_uri": "https://localhost:8080/",
     "height": 193
    },
    "id": "DG-CxtJh84gP",
    "outputId": "6903bd02-2260-4971-9dff-f128340003cc"
   },
   "outputs": [
    {
     "name": "stderr",
     "output_type": "stream",
     "text": [
      "/usr/local/lib/python3.7/dist-packages/ktrain/text/preprocessor.py:422: UserWarning: The class_names argument is replacing the classes argument. Please update your code.\n",
      "  warnings.warn('The class_names argument is replacing the classes argument. Please update your code.')\n"
     ]
    },
    {
     "name": "stdout",
     "output_type": "stream",
     "text": [
      "preprocessing train...\n",
      "language: ja\n"
     ]
    },
    {
     "name": "stderr",
     "output_type": "stream",
     "text": [
      "/usr/local/lib/python3.7/dist-packages/ktrain/utils.py:625: UserWarning: class_names argument was ignored, as they were extracted from string labels in dataset\n",
      "  if self.get_classes(): warnings.warn('class_names argument was ignored, as they were extracted from string labels in dataset')\n"
     ]
    },
    {
     "data": {
      "text/html": [
       "\n",
       "<style>\n",
       "    /* Turns off some styling */\n",
       "    progress {\n",
       "        /* gets rid of default border in Firefox and Opera. */\n",
       "        border: none;\n",
       "        /* Needs to be in here for Safari polyfill so background images work as expected. */\n",
       "        background-size: auto;\n",
       "    }\n",
       "    .progress-bar-interrupted, .progress-bar-interrupted::-webkit-progress-bar {\n",
       "        background: #F44336;\n",
       "    }\n",
       "</style>\n"
      ],
      "text/plain": [
       "<IPython.core.display.HTML object>"
      ]
     },
     "metadata": {},
     "output_type": "display_data"
    },
    {
     "data": {
      "text/html": [],
      "text/plain": [
       "<IPython.core.display.HTML object>"
      ]
     },
     "metadata": {},
     "output_type": "display_data"
    },
    {
     "name": "stdout",
     "output_type": "stream",
     "text": [
      "Is Multi-Label? False\n",
      "preprocessing test...\n",
      "language: ja\n"
     ]
    },
    {
     "data": {
      "text/html": [
       "\n",
       "<style>\n",
       "    /* Turns off some styling */\n",
       "    progress {\n",
       "        /* gets rid of default border in Firefox and Opera. */\n",
       "        border: none;\n",
       "        /* Needs to be in here for Safari polyfill so background images work as expected. */\n",
       "        background-size: auto;\n",
       "    }\n",
       "    .progress-bar-interrupted, .progress-bar-interrupted::-webkit-progress-bar {\n",
       "        background: #F44336;\n",
       "    }\n",
       "</style>\n"
      ],
      "text/plain": [
       "<IPython.core.display.HTML object>"
      ]
     },
     "metadata": {},
     "output_type": "display_data"
    },
    {
     "data": {
      "text/html": [],
      "text/plain": [
       "<IPython.core.display.HTML object>"
      ]
     },
     "metadata": {},
     "output_type": "display_data"
    }
   ],
   "source": [
    "MODEL_NAME = 'cl-tohoku/bert-base-japanese-v2'\n",
    "t = text.Transformer(MODEL_NAME, maxlen=128, classes=['polite', 'informal'])\n",
    "trn = t.preprocess_train(x_train, y_train)\n",
    "val = t.preprocess_test(x_dev, y_dev)\n",
    "model = t.get_classifier()\n",
    "learner_1 = ktrain.get_learner(model, train_data=trn, val_data=val, batch_size=6)"
   ]
  },
  {
   "cell_type": "code",
   "execution_count": null,
   "metadata": {
    "colab": {
     "base_uri": "https://localhost:8080/"
    },
    "id": "DlYq3ynU5ss5",
    "outputId": "53639cc9-5c5e-4442-86a6-776bd5ab03e8"
   },
   "outputs": [
    {
     "name": "stdout",
     "output_type": "stream",
     "text": [
      "Epoch 1/2\n",
      "8334/8334 [==============================] - 1512s 179ms/step - loss: 0.0253 - accuracy: 0.9953 - val_loss: 0.0140 - val_accuracy: 0.9985\n",
      "Epoch 2/2\n",
      "8334/8334 [==============================] - 1505s 180ms/step - loss: 0.2972 - accuracy: 0.7956 - val_loss: 0.7220 - val_accuracy: 0.1840\n"
     ]
    },
    {
     "data": {
      "text/plain": [
       "<keras.callbacks.History at 0x7f44fd0d0cd0>"
      ]
     },
     "execution_count": 59,
     "metadata": {},
     "output_type": "execute_result"
    }
   ],
   "source": [
    "learner_1.fit(4e-5, 2)"
   ]
  },
  {
   "cell_type": "markdown",
   "metadata": {
    "id": "YAkWVuyygNwu"
   },
   "source": [
    "*The results indicate that the model is underfitting and different learning rate should be tested.*"
   ]
  },
  {
   "cell_type": "markdown",
   "metadata": {
    "id": "uBx9OOQocsLG"
   },
   "source": [
    "**b) Fitting the model with static learning rate of 0.00005 with 2 epochs**"
   ]
  },
  {
   "cell_type": "code",
   "execution_count": null,
   "metadata": {
    "colab": {
     "base_uri": "https://localhost:8080/",
     "height": 193
    },
    "id": "1XEUtTQZkWTH",
    "outputId": "d80c105d-58f8-4285-dca5-43df97dd97d5"
   },
   "outputs": [
    {
     "name": "stderr",
     "output_type": "stream",
     "text": [
      "/usr/local/lib/python3.7/dist-packages/ktrain/text/preprocessor.py:422: UserWarning: The class_names argument is replacing the classes argument. Please update your code.\n",
      "  warnings.warn('The class_names argument is replacing the classes argument. Please update your code.')\n"
     ]
    },
    {
     "name": "stdout",
     "output_type": "stream",
     "text": [
      "preprocessing train...\n",
      "language: ja\n"
     ]
    },
    {
     "name": "stderr",
     "output_type": "stream",
     "text": [
      "/usr/local/lib/python3.7/dist-packages/ktrain/utils.py:625: UserWarning: class_names argument was ignored, as they were extracted from string labels in dataset\n",
      "  if self.get_classes(): warnings.warn('class_names argument was ignored, as they were extracted from string labels in dataset')\n"
     ]
    },
    {
     "data": {
      "text/html": [
       "\n",
       "<style>\n",
       "    /* Turns off some styling */\n",
       "    progress {\n",
       "        /* gets rid of default border in Firefox and Opera. */\n",
       "        border: none;\n",
       "        /* Needs to be in here for Safari polyfill so background images work as expected. */\n",
       "        background-size: auto;\n",
       "    }\n",
       "    .progress-bar-interrupted, .progress-bar-interrupted::-webkit-progress-bar {\n",
       "        background: #F44336;\n",
       "    }\n",
       "</style>\n"
      ],
      "text/plain": [
       "<IPython.core.display.HTML object>"
      ]
     },
     "metadata": {},
     "output_type": "display_data"
    },
    {
     "data": {
      "text/html": [],
      "text/plain": [
       "<IPython.core.display.HTML object>"
      ]
     },
     "metadata": {},
     "output_type": "display_data"
    },
    {
     "name": "stdout",
     "output_type": "stream",
     "text": [
      "Is Multi-Label? False\n",
      "preprocessing test...\n",
      "language: ja\n"
     ]
    },
    {
     "data": {
      "text/html": [
       "\n",
       "<style>\n",
       "    /* Turns off some styling */\n",
       "    progress {\n",
       "        /* gets rid of default border in Firefox and Opera. */\n",
       "        border: none;\n",
       "        /* Needs to be in here for Safari polyfill so background images work as expected. */\n",
       "        background-size: auto;\n",
       "    }\n",
       "    .progress-bar-interrupted, .progress-bar-interrupted::-webkit-progress-bar {\n",
       "        background: #F44336;\n",
       "    }\n",
       "</style>\n"
      ],
      "text/plain": [
       "<IPython.core.display.HTML object>"
      ]
     },
     "metadata": {},
     "output_type": "display_data"
    },
    {
     "data": {
      "text/html": [],
      "text/plain": [
       "<IPython.core.display.HTML object>"
      ]
     },
     "metadata": {},
     "output_type": "display_data"
    }
   ],
   "source": [
    "MODEL_NAME = 'cl-tohoku/bert-base-japanese-v2'\n",
    "t = text.Transformer(MODEL_NAME, maxlen=128, classes=['polite', 'informal'])\n",
    "trn = t.preprocess_train(x_train, y_train)\n",
    "val = t.preprocess_test(x_dev, y_dev)\n",
    "model = t.get_classifier()\n",
    "learner_2 = ktrain.get_learner(model, train_data=trn, val_data=val, batch_size=6)"
   ]
  },
  {
   "cell_type": "code",
   "execution_count": null,
   "metadata": {
    "colab": {
     "base_uri": "https://localhost:8080/"
    },
    "id": "OB7dIOxskjMs",
    "outputId": "6865efb0-9274-44b8-95c4-c7fcb675c078"
   },
   "outputs": [
    {
     "name": "stdout",
     "output_type": "stream",
     "text": [
      "Epoch 1/2\n",
      "8334/8334 [==============================] - 1509s 178ms/step - loss: 0.2203 - accuracy: 0.8664 - val_loss: 0.7878 - val_accuracy: 0.1840\n",
      "Epoch 2/2\n",
      "8334/8334 [==============================] - 1499s 179ms/step - loss: 0.6987 - accuracy: 0.4991 - val_loss: 0.6889 - val_accuracy: 0.8160\n"
     ]
    },
    {
     "data": {
      "text/plain": [
       "<keras.callbacks.History at 0x7f456ae90890>"
      ]
     },
     "execution_count": 64,
     "metadata": {},
     "output_type": "execute_result"
    }
   ],
   "source": [
    "learner_2.fit(5e-5, 2)"
   ]
  },
  {
   "cell_type": "markdown",
   "metadata": {
    "id": "dwLNibFLavzv"
   },
   "source": [
    "*Higher loss on the validation set indicates that the model is overfitting. The number of epochs also needs increasing for improved performance and more accurate results.*"
   ]
  },
  {
   "cell_type": "markdown",
   "metadata": {
    "id": "Yehl2lF6lRbl"
   },
   "source": [
    "**c) Fitting the model with 1cycle learning rate policy with 3 epochs**"
   ]
  },
  {
   "cell_type": "code",
   "execution_count": null,
   "metadata": {
    "colab": {
     "base_uri": "https://localhost:8080/",
     "height": 193
    },
    "id": "Aokzx8MsekAz",
    "outputId": "e78c8b90-3030-4b12-a3a6-5d423877103b"
   },
   "outputs": [
    {
     "name": "stderr",
     "output_type": "stream",
     "text": [
      "/usr/local/lib/python3.7/dist-packages/ktrain/text/preprocessor.py:422: UserWarning: The class_names argument is replacing the classes argument. Please update your code.\n",
      "  warnings.warn('The class_names argument is replacing the classes argument. Please update your code.')\n"
     ]
    },
    {
     "name": "stdout",
     "output_type": "stream",
     "text": [
      "preprocessing train...\n",
      "language: ja\n"
     ]
    },
    {
     "name": "stderr",
     "output_type": "stream",
     "text": [
      "/usr/local/lib/python3.7/dist-packages/ktrain/utils.py:625: UserWarning: class_names argument was ignored, as they were extracted from string labels in dataset\n",
      "  if self.get_classes(): warnings.warn('class_names argument was ignored, as they were extracted from string labels in dataset')\n"
     ]
    },
    {
     "data": {
      "text/html": [
       "\n",
       "<style>\n",
       "    /* Turns off some styling */\n",
       "    progress {\n",
       "        /* gets rid of default border in Firefox and Opera. */\n",
       "        border: none;\n",
       "        /* Needs to be in here for Safari polyfill so background images work as expected. */\n",
       "        background-size: auto;\n",
       "    }\n",
       "    .progress-bar-interrupted, .progress-bar-interrupted::-webkit-progress-bar {\n",
       "        background: #F44336;\n",
       "    }\n",
       "</style>\n"
      ],
      "text/plain": [
       "<IPython.core.display.HTML object>"
      ]
     },
     "metadata": {},
     "output_type": "display_data"
    },
    {
     "data": {
      "text/html": [],
      "text/plain": [
       "<IPython.core.display.HTML object>"
      ]
     },
     "metadata": {},
     "output_type": "display_data"
    },
    {
     "name": "stdout",
     "output_type": "stream",
     "text": [
      "Is Multi-Label? False\n",
      "preprocessing test...\n",
      "language: ja\n"
     ]
    },
    {
     "data": {
      "text/html": [
       "\n",
       "<style>\n",
       "    /* Turns off some styling */\n",
       "    progress {\n",
       "        /* gets rid of default border in Firefox and Opera. */\n",
       "        border: none;\n",
       "        /* Needs to be in here for Safari polyfill so background images work as expected. */\n",
       "        background-size: auto;\n",
       "    }\n",
       "    .progress-bar-interrupted, .progress-bar-interrupted::-webkit-progress-bar {\n",
       "        background: #F44336;\n",
       "    }\n",
       "</style>\n"
      ],
      "text/plain": [
       "<IPython.core.display.HTML object>"
      ]
     },
     "metadata": {},
     "output_type": "display_data"
    },
    {
     "data": {
      "text/html": [],
      "text/plain": [
       "<IPython.core.display.HTML object>"
      ]
     },
     "metadata": {},
     "output_type": "display_data"
    }
   ],
   "source": [
    "MODEL_NAME = 'cl-tohoku/bert-base-japanese-v2'\n",
    "t = text.Transformer(MODEL_NAME, maxlen=128, classes=['polite', 'informal'])\n",
    "trn = t.preprocess_train(x_train, y_train)\n",
    "val = t.preprocess_test(x_dev, y_dev)\n",
    "model = t.get_classifier()\n",
    "learner_3 = ktrain.get_learner(model, train_data=trn, val_data=val, batch_size=6)"
   ]
  },
  {
   "cell_type": "code",
   "execution_count": null,
   "metadata": {
    "colab": {
     "base_uri": "https://localhost:8080/"
    },
    "id": "MzLXoZO8e8BQ",
    "outputId": "2c37ebfc-420c-4e3a-8aed-47da90c48cda"
   },
   "outputs": [
    {
     "name": "stdout",
     "output_type": "stream",
     "text": [
      "\n",
      "\n",
      "begin training using onecycle policy with max lr of 5e-05...\n",
      "Epoch 1/3\n",
      "8334/8334 [==============================] - 1527s 180ms/step - loss: 0.0337 - accuracy: 0.9915 - val_loss: 0.0305 - val_accuracy: 0.9955\n",
      "Epoch 2/3\n",
      "8334/8334 [==============================] - 1517s 181ms/step - loss: 0.0360 - accuracy: 0.9931 - val_loss: 0.0305 - val_accuracy: 0.9960\n",
      "Epoch 3/3\n",
      "8334/8334 [==============================] - 1509s 180ms/step - loss: 0.0302 - accuracy: 0.9951 - val_loss: 0.0287 - val_accuracy: 0.9960\n"
     ]
    },
    {
     "data": {
      "text/plain": [
       "<keras.callbacks.History at 0x7f44fccc3d50>"
      ]
     },
     "execution_count": 66,
     "metadata": {},
     "output_type": "execute_result"
    }
   ],
   "source": [
    "learner_3.fit_onecycle(5e-5, 3)"
   ]
  },
  {
   "cell_type": "markdown",
   "metadata": {
    "id": "meMwacNBeXB6"
   },
   "source": [
    "Model's performance significantly improved using onecycle fitting method over static learning rate."
   ]
  },
  {
   "cell_type": "markdown",
   "metadata": {
    "id": "lO9kupVgnbvk"
   },
   "source": [
    "**2. Max Length**"
   ]
  },
  {
   "cell_type": "code",
   "execution_count": null,
   "metadata": {
    "id": "4I_qaD2cj6b1"
   },
   "outputs": [],
   "source": [
    "# Error output for higher maxlen \n",
    "#MODEL_NAME = 'cl-tohoku/bert-base-japanese-v2'\n",
    "#t = text.Transformer(MODEL_NAME, maxlen=512, classes=['polite', 'informal'])\n",
    "#trn = t.preprocess_train(x_train, y_train)\n",
    "#val = t.preprocess_test(x_dev, y_dev)\n",
    "#model = t.get_classifier()\n",
    "#learner_4 = ktrain.get_learner(model, train_data=trn, val_data=val, batch_size=6)"
   ]
  },
  {
   "cell_type": "code",
   "execution_count": null,
   "metadata": {
    "id": "kYktKQ9vkWs1"
   },
   "outputs": [],
   "source": [
    "# Error output for higher maxlen - ResourceExhaustedError\n",
    "#learner_4.fit_onecycle(5e-5, 3)\n",
    "\n"
   ]
  },
  {
   "cell_type": "code",
   "execution_count": null,
   "metadata": {
    "colab": {
     "base_uri": "https://localhost:8080/"
    },
    "id": "F7qgTGQjy2rN",
    "outputId": "e9d9e228-e929-4d6a-d509-f24b57e201e2"
   },
   "outputs": [
    {
     "data": {
      "text/plain": [
       "count    300000.00000\n",
       "mean         16.17053\n",
       "std           8.23215\n",
       "min           1.00000\n",
       "25%          10.00000\n",
       "50%          15.00000\n",
       "75%          21.00000\n",
       "max         132.00000\n",
       "Name: jp_sentence, dtype: float64"
      ]
     },
     "execution_count": 5,
     "metadata": {},
     "output_type": "execute_result"
    }
   ],
   "source": [
    "# check sentence length\n",
    "train.jp_sentence.str.len().describe()"
   ]
  },
  {
   "cell_type": "code",
   "execution_count": null,
   "metadata": {
    "colab": {
     "base_uri": "https://localhost:8080/"
    },
    "id": "VnnT_aUTzC-K",
    "outputId": "99a90f98-9fc9-4302-f682-90f66e13c377"
   },
   "outputs": [
    {
     "data": {
      "text/plain": [
       "Unnamed: 0  jp_sentence                                                                                                                           label   \n",
       "346776      クローシュ、ダンスハット、デスキャップ、コイフ、 ヘアネット、バーブーシュ、パグリー、ヤーマルク コックルハット、ポークパイ、タムズシャンター、 ビリーコック、ビコーン、トリコーン、バンドー ボングレース、ファンテイル、ナイトキャップ、 ガリバルディ、フェズ...  informal    1\n",
       "dtype: int64"
      ]
     },
     "execution_count": 7,
     "metadata": {},
     "output_type": "execute_result"
    }
   ],
   "source": [
    "train[train.jp_sentence.str.len()>128].value_counts()"
   ]
  },
  {
   "cell_type": "markdown",
   "metadata": {
    "id": "LFF1Ml2sOk-R"
   },
   "source": [
    "*Only one sentence over the length of 128 found.*"
   ]
  },
  {
   "cell_type": "markdown",
   "metadata": {
    "id": "_NdQuEnOntb2"
   },
   "source": [
    "**2. Batch Size**"
   ]
  },
  {
   "cell_type": "code",
   "execution_count": null,
   "metadata": {
    "colab": {
     "base_uri": "https://localhost:8080/",
     "height": 193
    },
    "id": "AKciqu3EnB31",
    "outputId": "b09f87d1-9343-42e2-f1ad-28171ba8e9ad"
   },
   "outputs": [
    {
     "name": "stderr",
     "output_type": "stream",
     "text": [
      "/usr/local/lib/python3.7/dist-packages/ktrain/text/preprocessor.py:422: UserWarning: The class_names argument is replacing the classes argument. Please update your code.\n",
      "  warnings.warn('The class_names argument is replacing the classes argument. Please update your code.')\n"
     ]
    },
    {
     "name": "stdout",
     "output_type": "stream",
     "text": [
      "preprocessing train...\n",
      "language: ja\n"
     ]
    },
    {
     "name": "stderr",
     "output_type": "stream",
     "text": [
      "/usr/local/lib/python3.7/dist-packages/ktrain/utils.py:625: UserWarning: class_names argument was ignored, as they were extracted from string labels in dataset\n",
      "  if self.get_classes(): warnings.warn('class_names argument was ignored, as they were extracted from string labels in dataset')\n"
     ]
    },
    {
     "data": {
      "text/html": [
       "\n",
       "<style>\n",
       "    /* Turns off some styling */\n",
       "    progress {\n",
       "        /* gets rid of default border in Firefox and Opera. */\n",
       "        border: none;\n",
       "        /* Needs to be in here for Safari polyfill so background images work as expected. */\n",
       "        background-size: auto;\n",
       "    }\n",
       "    .progress-bar-interrupted, .progress-bar-interrupted::-webkit-progress-bar {\n",
       "        background: #F44336;\n",
       "    }\n",
       "</style>\n"
      ],
      "text/plain": [
       "<IPython.core.display.HTML object>"
      ]
     },
     "metadata": {},
     "output_type": "display_data"
    },
    {
     "data": {
      "text/html": [],
      "text/plain": [
       "<IPython.core.display.HTML object>"
      ]
     },
     "metadata": {},
     "output_type": "display_data"
    },
    {
     "name": "stdout",
     "output_type": "stream",
     "text": [
      "Is Multi-Label? False\n",
      "preprocessing test...\n",
      "language: ja\n"
     ]
    },
    {
     "data": {
      "text/html": [
       "\n",
       "<style>\n",
       "    /* Turns off some styling */\n",
       "    progress {\n",
       "        /* gets rid of default border in Firefox and Opera. */\n",
       "        border: none;\n",
       "        /* Needs to be in here for Safari polyfill so background images work as expected. */\n",
       "        background-size: auto;\n",
       "    }\n",
       "    .progress-bar-interrupted, .progress-bar-interrupted::-webkit-progress-bar {\n",
       "        background: #F44336;\n",
       "    }\n",
       "</style>\n"
      ],
      "text/plain": [
       "<IPython.core.display.HTML object>"
      ]
     },
     "metadata": {},
     "output_type": "display_data"
    },
    {
     "data": {
      "text/html": [],
      "text/plain": [
       "<IPython.core.display.HTML object>"
      ]
     },
     "metadata": {},
     "output_type": "display_data"
    }
   ],
   "source": [
    "# change batch_size value from 6 to 12\n",
    "MODEL_NAME = 'cl-tohoku/bert-base-japanese-v2'\n",
    "t = text.Transformer(MODEL_NAME, maxlen=128, classes=['polite', 'informal'])\n",
    "trn = t.preprocess_train(x_train, y_train)\n",
    "val = t.preprocess_test(x_dev, y_dev)\n",
    "model = t.get_classifier()\n",
    "learner_5 = ktrain.get_learner(model, train_data=trn, val_data=val, batch_size=12)"
   ]
  },
  {
   "cell_type": "code",
   "execution_count": null,
   "metadata": {
    "colab": {
     "base_uri": "https://localhost:8080/"
    },
    "id": "U0hkXjeBnGKF",
    "outputId": "661b5dc3-4404-4c1b-9c5e-ac3eb4c7e1d6"
   },
   "outputs": [
    {
     "name": "stdout",
     "output_type": "stream",
     "text": [
      "\n",
      "\n",
      "begin training using onecycle policy with max lr of 5e-05...\n",
      "Epoch 1/3\n",
      "4167/4167 [==============================] - 1374s 324ms/step - loss: 0.0323 - accuracy: 0.9909 - val_loss: 0.0044 - val_accuracy: 0.9995\n",
      "Epoch 2/3\n",
      "4167/4167 [==============================] - 1360s 324ms/step - loss: 0.0325 - accuracy: 0.9919 - val_loss: 0.0083 - val_accuracy: 0.9990\n",
      "Epoch 3/3\n",
      "4167/4167 [==============================] - 1363s 325ms/step - loss: 0.0122 - accuracy: 0.9982 - val_loss: 0.0081 - val_accuracy: 0.9990\n"
     ]
    },
    {
     "data": {
      "text/plain": [
       "<keras.callbacks.History at 0x7f44fa380a10>"
      ]
     },
     "execution_count": 70,
     "metadata": {},
     "output_type": "execute_result"
    }
   ],
   "source": [
    "learner_5.fit_onecycle(5e-5, 3)"
   ]
  },
  {
   "cell_type": "markdown",
   "metadata": {
    "id": "lRUTnEP3DaKr"
   },
   "source": [
    "The hyper-parameters used in training this model resulted in the highest accuracy and lowest loss values as well as slightly improved performance when batch_size value was updated from 6 to 12 therefore these parameters will be chosen for the final model."
   ]
  },
  {
   "cell_type": "code",
   "execution_count": null,
   "metadata": {
    "colab": {
     "base_uri": "https://localhost:8080/",
     "height": 193
    },
    "id": "nH5nFwds99b9",
    "outputId": "4a4e539a-9d2e-4b0e-c79a-661225d8f8d4"
   },
   "outputs": [
    {
     "name": "stderr",
     "output_type": "stream",
     "text": [
      "/usr/local/lib/python3.7/dist-packages/ktrain/text/preprocessor.py:422: UserWarning: The class_names argument is replacing the classes argument. Please update your code.\n",
      "  warnings.warn('The class_names argument is replacing the classes argument. Please update your code.')\n"
     ]
    },
    {
     "name": "stdout",
     "output_type": "stream",
     "text": [
      "preprocessing train...\n",
      "language: ja\n"
     ]
    },
    {
     "name": "stderr",
     "output_type": "stream",
     "text": [
      "/usr/local/lib/python3.7/dist-packages/ktrain/utils.py:625: UserWarning: class_names argument was ignored, as they were extracted from string labels in dataset\n",
      "  if self.get_classes(): warnings.warn('class_names argument was ignored, as they were extracted from string labels in dataset')\n"
     ]
    },
    {
     "data": {
      "text/html": [
       "\n",
       "<style>\n",
       "    /* Turns off some styling */\n",
       "    progress {\n",
       "        /* gets rid of default border in Firefox and Opera. */\n",
       "        border: none;\n",
       "        /* Needs to be in here for Safari polyfill so background images work as expected. */\n",
       "        background-size: auto;\n",
       "    }\n",
       "    .progress-bar-interrupted, .progress-bar-interrupted::-webkit-progress-bar {\n",
       "        background: #F44336;\n",
       "    }\n",
       "</style>\n"
      ],
      "text/plain": [
       "<IPython.core.display.HTML object>"
      ]
     },
     "metadata": {},
     "output_type": "display_data"
    },
    {
     "data": {
      "text/html": [],
      "text/plain": [
       "<IPython.core.display.HTML object>"
      ]
     },
     "metadata": {},
     "output_type": "display_data"
    },
    {
     "name": "stdout",
     "output_type": "stream",
     "text": [
      "Is Multi-Label? False\n",
      "preprocessing test...\n",
      "language: ja\n"
     ]
    },
    {
     "data": {
      "text/html": [
       "\n",
       "<style>\n",
       "    /* Turns off some styling */\n",
       "    progress {\n",
       "        /* gets rid of default border in Firefox and Opera. */\n",
       "        border: none;\n",
       "        /* Needs to be in here for Safari polyfill so background images work as expected. */\n",
       "        background-size: auto;\n",
       "    }\n",
       "    .progress-bar-interrupted, .progress-bar-interrupted::-webkit-progress-bar {\n",
       "        background: #F44336;\n",
       "    }\n",
       "</style>\n"
      ],
      "text/plain": [
       "<IPython.core.display.HTML object>"
      ]
     },
     "metadata": {},
     "output_type": "display_data"
    },
    {
     "data": {
      "text/html": [],
      "text/plain": [
       "<IPython.core.display.HTML object>"
      ]
     },
     "metadata": {},
     "output_type": "display_data"
    }
   ],
   "source": [
    "# change batch_size value from 12 to 32 - resulted in error as 32 was too high\n",
    "# update batch_size to 24\n",
    "MODEL_NAME = 'cl-tohoku/bert-base-japanese-v2'\n",
    "t = text.Transformer(MODEL_NAME, maxlen=128, classes=['polite', 'informal'])\n",
    "trn = t.preprocess_train(x_train, y_train)\n",
    "val = t.preprocess_test(x_dev, y_dev)\n",
    "model = t.get_classifier()\n",
    "learner_6 = ktrain.get_learner(model, train_data=trn, val_data=val, batch_size=24)"
   ]
  }
 ],
 "metadata": {
  "accelerator": "GPU",
  "colab": {
   "collapsed_sections": [],
   "machine_shape": "hm",
   "name": "BERT Fine-tuning.ipynb",
   "provenance": []
  },
  "kernelspec": {
   "display_name": "Python 3",
   "language": "python",
   "name": "python3"
  },
  "language_info": {
   "codemirror_mode": {
    "name": "ipython",
    "version": 3
   },
   "file_extension": ".py",
   "mimetype": "text/x-python",
   "name": "python",
   "nbconvert_exporter": "python",
   "pygments_lexer": "ipython3",
   "version": "3.8.3"
  }
 },
 "nbformat": 4,
 "nbformat_minor": 1
}
